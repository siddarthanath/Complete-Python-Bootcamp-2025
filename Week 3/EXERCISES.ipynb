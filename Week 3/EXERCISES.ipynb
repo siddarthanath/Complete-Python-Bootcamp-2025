{
 "cells": [
  {
   "attachments": {},
   "cell_type": "markdown",
   "metadata": {},
   "source": [
    "# Exercises"
   ]
  },
  {
   "attachments": {},
   "cell_type": "markdown",
   "metadata": {},
   "source": [
    "Below are a few exercises you can try out to practice the content you have learned so far:"
   ]
  },
  {
   "attachments": {},
   "cell_type": "markdown",
   "metadata": {},
   "source": [
    "**Exercise 1: Positive or Negative Number**\n",
    "\n",
    "> **Description:** Write a program that asks the user to enter a number and checks if the number is positive, negative, or zero. Print the appropriate message based on the condition."
   ]
  },
  {
   "attachments": {},
   "cell_type": "markdown",
   "metadata": {},
   "source": [
    "**Exercise 2: Even or Odd Number**\n",
    "\n",
    "> **Description:** Write a program that asks the user for a number and checks if it is even or odd. Print the appropriate message based on the condition."
   ]
  },
  {
   "attachments": {},
   "cell_type": "markdown",
   "metadata": {},
   "source": [
    "**Exercise 3: Sum of Numbers**\n",
    "\n",
    "> **Description:** Write a program that uses a `for` loop to calculate the sum of numbers from 1 to 10 and print the result."
   ]
  },
  {
   "attachments": {},
   "cell_type": "markdown",
   "metadata": {},
   "source": [
    "**Exercise 4: Factorial Calculation**\n",
    "\n",
    "> **Description:** Write a program that calculates the factorial of a given number using a `for` loop."
   ]
  },
  {
   "attachments": {},
   "cell_type": "markdown",
   "metadata": {},
   "source": [
    "**Exercise 5: Counting Down**\n",
    "\n",
    "> **Description:** Write a program that uses a `while` loop to print numbers from 10 down to 1."
   ]
  },
  {
   "attachments": {},
   "cell_type": "markdown",
   "metadata": {},
   "source": [
    "**Exercise 6: Guess the Number**\n",
    "\n",
    "> **Description:** Write a program that asks the user to guess a number between 1 and 10. Keep asking until the user guesses the correct number using a `while` loop."
   ]
  },
  {
   "attachments": {},
   "cell_type": "markdown",
   "metadata": {},
   "source": [
    "**Exercise 7: Skipping a Number**\n",
    "\n",
    "> **Description:** Write a program that uses a `for` loop to print numbers from 1 to 5, but skips the number 3 using the `continue` statement."
   ]
  },
  {
   "attachments": {},
   "cell_type": "markdown",
   "metadata": {},
   "source": [
    "**Exercise 8: Exiting the Loop**\n",
    "\n",
    "> **Description:** Write a program that uses a `for` loop to print numbers from 1 to 5, but stops the loop when the number 4 is encountered using the `break` statement."
   ]
  },
  {
   "attachments": {},
   "cell_type": "markdown",
   "metadata": {},
   "source": [
    "**Exercise 9: Placeholder in Loop**\n",
    "\n",
    "> **Description:** Write a program that uses a `for` loop to iterate over a list of numbers. Use the `pass` statement in the loop without performing any operation."
   ]
  },
  {
   "attachments": {},
   "cell_type": "markdown",
   "metadata": {},
   "source": [
    "**Exercise 10: Sum Until Zero**\n",
    "\n",
    "> **Description:** Write a program that keeps asking the user to enter numbers and adds them to a sum until the user enters zero, using a `while` loop and the `break` statement."
   ]
  }
 ],
 "metadata": {
  "language_info": {
   "name": "python"
  },
  "orig_nbformat": 4
 },
 "nbformat": 4,
 "nbformat_minor": 2
}
