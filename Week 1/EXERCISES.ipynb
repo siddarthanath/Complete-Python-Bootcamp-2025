{
 "cells": [
  {
   "attachments": {},
   "cell_type": "markdown",
   "metadata": {},
   "source": [
    "# Exercises"
   ]
  },
  {
   "attachments": {},
   "cell_type": "markdown",
   "metadata": {},
   "source": [
    "Below are a few exercises you can try out to practice the content you have learned so far:"
   ]
  },
  {
   "attachments": {},
   "cell_type": "markdown",
   "metadata": {},
   "source": [
    "**Exercise 1: Multiples of 3 or 7**\n",
    "\n",
    "> **Description:** Write a program that asks the user for a number and checks if it is a multiple of 3 or 7. Print the appropriate message based on the conditions."
   ]
  },
  {
   "attachments": {},
   "cell_type": "markdown",
   "metadata": {},
   "source": [
    "**Exercise 2 : Logical Comparison**\n",
    "\n",
    "> **Description:** Write a program that asks the user for two numbers and checks if the first number is greater than the second number and both numbers are positive. Print the appropriate message based on the conditions."
   ]
  },
  {
   "attachments": {},
   "cell_type": "markdown",
   "metadata": {},
   "source": [
    "**Exercise 3: String Formatting**\n",
    "\n",
    "> **Description:** Write a program that asks the user for their name and age, and then prints a greeting message using string formatting."
   ]
  },
  {
   "attachments": {},
   "cell_type": "markdown",
   "metadata": {},
   "source": [
    "**Exercise 4: String Conversion**\n",
    "\n",
    "> **Description:** Write a program that asks the user for a sentence and converts it to uppercase and lowercase."
   ]
  },
  {
   "attachments": {},
   "cell_type": "markdown",
   "metadata": {},
   "source": [
    "**Exercise 5: String Checking**\n",
    "\n",
    "> **Description:** Write a program that asks the user for a file name and checks if it ends with the \".txt\" extension."
   ]
  },
  {
   "attachments": {},
   "cell_type": "markdown",
   "metadata": {},
   "source": [
    "**Exercise 6: String Replacement**\n",
    "\n",
    "> **Description:** Write a program that asks the user for a sentence and a word, and replaces all occurrences of the word with \"REDACTED\"."
   ]
  },
  {
   "attachments": {},
   "cell_type": "markdown",
   "metadata": {},
   "source": [
    "**Exercise 7: String Slicing**\n",
    "\n",
    "> **Description:** Write a program that asks the user for a sentence and prints the first and last three characters."
   ]
  },
  {
   "attachments": {},
   "cell_type": "markdown",
   "metadata": {},
   "source": [
    "**Exercise 8: String Evaluation**\n",
    "\n",
    "> **Description:** Write a program that asks the user for an arithmetic expression and evaluates it using eval()."
   ]
  },
  {
   "attachments": {},
   "cell_type": "markdown",
   "metadata": {},
   "source": [
    "**Exercise 9: String Concatenation**\n",
    "\n",
    "> **Description:** Write a program that asks the user for their first name, last name, and age. Then, create a username by concatenating the first letter of their first name, the last name, and the last two digits of their age. Print the username."
   ]
  },
  {
   "attachments": {},
   "cell_type": "markdown",
   "metadata": {},
   "source": [
    "**Exercise 10: String Formatting with f-strings**\n",
    "\n",
    "> **Description:** Write a program that asks the user for their name and favorite color. Use f-strings to print a message with their name and favorite color."
   ]
  },
  {
   "cell_type": "markdown",
   "metadata": {},
   "source": [
    "© *PolyNath 2023*"
   ]
  }
 ],
 "metadata": {
  "language_info": {
   "name": "python"
  },
  "orig_nbformat": 4
 },
 "nbformat": 4,
 "nbformat_minor": 2
}
