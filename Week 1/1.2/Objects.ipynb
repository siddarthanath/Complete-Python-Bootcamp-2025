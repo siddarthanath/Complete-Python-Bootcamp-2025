{
 "cells": [
  {
   "cell_type": "markdown",
   "metadata": {},
   "source": [
    "# Objects in Python (1.2.1)"
   ]
  },
  {
   "cell_type": "markdown",
   "metadata": {},
   "source": [
    "This notebook gives an overview as to what **objects** are in Python and how they are utilised."
   ]
  },
  {
   "cell_type": "markdown",
   "metadata": {},
   "source": [
    "## 1.2.1.1 - What is a class?"
   ]
  },
  {
   "cell_type": "markdown",
   "metadata": {},
   "source": [
    "1. Python is an **object-oriented** language where everything is an object.\n",
    "2. A class is a code template for creating objects. \n",
    "    - In a class, you can define attributes, methods, properties etc... (more will be discussed in the `Class` section)."
   ]
  },
  {
   "cell_type": "markdown",
   "metadata": {},
   "source": [
    "## 1.2.1.2 - What is an object?"
   ]
  },
  {
   "cell_type": "markdown",
   "metadata": {},
   "source": [
    "1. Objects are **instances** of **classes**, which define their structure and behavior. An **instance** is simply a specific configured class entity. \n",
    "    - Each object has a **type**, which is declared at runtime, and cannot be changed. \n",
    "    - The state of the object however, can change, depending on if the object is **mutable** or not."
   ]
  },
  {
   "cell_type": "markdown",
   "metadata": {},
   "source": [
    "## 1.2.1.3 - What is a type?"
   ]
  },
  {
   "cell_type": "markdown",
   "metadata": {},
   "source": [
    "1. The `type()` function either:\n",
    "\n",
    "    - Type of the object, if only one object parameter is passed\n",
    "    - A new type, if 3 parameters passed\n",
    "\n",
    "2. If you need to check the type of an object, it is better to use the Python `isinstance()` function instead as it also checks if the given object is an instance of the subclass."
   ]
  },
  {
   "cell_type": "code",
   "execution_count": 1,
   "metadata": {},
   "outputs": [
    {
     "data": {
      "text/plain": [
       "(int, float, str, list, dict)"
      ]
     },
     "execution_count": 1,
     "metadata": {},
     "output_type": "execute_result"
    }
   ],
   "source": [
    "# Example 1\n",
    "type(1), type(1.0), type(\"Hello, World!\"), type([1, 2]), type({1: 'one', 2: 'two'})"
   ]
  },
  {
   "cell_type": "code",
   "execution_count": 2,
   "metadata": {},
   "outputs": [
    {
     "name": "stdout",
     "output_type": "stream",
     "text": [
      "<class 'type'>\n",
      "{'a': 'Foo', 'b': 12, '__module__': '__main__', '__dict__': <attribute '__dict__' of 'X' objects>, '__weakref__': <attribute '__weakref__' of 'X' objects>, '__doc__': None}\n"
     ]
    }
   ],
   "source": [
    "o1 = type('X', (object,), dict(a='Foo', b=12)) # object is the base class of all classes\n",
    "print(type(o1))\n",
    "print(vars(o1))"
   ]
  },
  {
   "cell_type": "code",
   "execution_count": null,
   "metadata": {},
   "outputs": [
    {
     "name": "stdout",
     "output_type": "stream",
     "text": [
      "<class 'type'>\n",
      "{'a': 'Foo', 'b': 12, '__module__': '__main__', '__doc__': None}\n"
     ]
    }
   ],
   "source": [
    "# A class \n",
    "class test:\n",
    "\n",
    "  # Class variables i.e., variables that are shared across all INSTANCES of the class\n",
    "  a = 'Foo'\n",
    "  b = 12\n",
    "  \n",
    "o2 = type('Y', (test,), dict(a='Foo', b=12))\n",
    "print(type(o2))\n",
    "print(vars(o2))"
   ]
  },
  {
   "cell_type": "markdown",
   "metadata": {},
   "source": [
    "## 1.2.1.4 - Identifiers, Objects, and Assignment"
   ]
  },
  {
   "cell_type": "markdown",
   "metadata": {},
   "source": [
    "The most important of all Python commands is an **assignment statement**. This command establishes *price* as an **identifier** (also known as a name), and then associates it with the **object** expressed on the right-hand side of the equal\n",
    "sign."
   ]
  },
  {
   "cell_type": "code",
   "execution_count": 15,
   "metadata": {},
   "outputs": [
    {
     "name": "stdout",
     "output_type": "stream",
     "text": [
      "4370022928\n",
      "4370022928\n",
      "True\n",
      "<class 'int'>\n"
     ]
    }
   ],
   "source": [
    "# Assignment creates a reference to an object\n",
    "price = 10          # price references an integer object\n",
    "y = price           # y becomes an alias of price (same object)\n",
    "print(id(price))\n",
    "print(id(y))\n",
    "print(id(price) == id(y))  # '==' operator checks for equivalence, depending on data type\n",
    "print(type(price))"
   ]
  },
  {
   "cell_type": "markdown",
   "metadata": {},
   "source": [
    "```\n",
    "  ┌────────────┐\n",
    "  │  int: 10   │\n",
    "  └────────────┘\n",
    "       ▲   ▲\n",
    "       │   │\n",
    "   price   y\n",
    "```"
   ]
  },
  {
   "cell_type": "markdown",
   "metadata": {},
   "source": [
    "We can see here that the `price` identifier is an object, specifically an instance of the class `int`. Below we will modify `y` and see something interesting occur in terms of the **memory address** i.e., identity, of the objects."
   ]
  },
  {
   "cell_type": "code",
   "execution_count": 16,
   "metadata": {},
   "outputs": [
    {
     "name": "stdout",
     "output_type": "stream",
     "text": [
      "4370022928\n",
      "4370023088\n",
      "True\n"
     ]
    }
   ],
   "source": [
    "y = y + 5          # y now references a new object\n",
    "print(id(price))   # price references the same object i.e., unchanged\n",
    "print(id(y))\n",
    "print(id(price) != id(y))  # '!=' operator checks for non-equivalence, depending on data type"
   ]
  },
  {
   "cell_type": "markdown",
   "metadata": {},
   "source": [
    "```\n",
    "  ┌────────────┐      ┌────────────┐\n",
    "  │  int: 10   │      │  int: 20   │\n",
    "  └────────────┘      └────────────┘\n",
    "       ▲                   ▲\n",
    "       │                   │\n",
    "        y                price\n",
    "```"
   ]
  },
  {
   "cell_type": "markdown",
   "metadata": {},
   "source": [
    "How has changing `y` now mean that `y` and `price` have different identities? Here is a summary of what is happening with the **identifiers**:\n",
    "\n",
    "1. `price` and `y` act like *pointers* (C++) or *references* (Java), pointing to the memory address of the int object `10`. The memory address refers to a specific location in the computer's memory where data can be stored or retrieved. \n",
    "    - Object creation = stored in heap memory.\n",
    "    - Object references = stored in stack memory.\n",
    "\n",
    "> **Note:** For more information about this, please visit [Heap VS Stack](https://www.geeksforgeeks.org/stack-vs-heap-memory-allocation/).\n",
    "\n",
    "2. Assigning `y=price` creates an alias (both reference the same object). Once an alias has been established, either name can be used to access the underlying object. \n",
    "    - If that object supports behaviours that affect its state, changes made to one alias will be apparent when using the other alias (because they refer to the same object). \n",
    "    - However, if one of the names is reassigned to a new value using a subsequent assignment statement, that does not affect the aliased object, rather it breaks the alias.\n",
    "\n",
    "        - `y = y + 5` --> creates a new int object i.e., `15` since we are adding an int to an int.\n",
    "        - `y` now points to a new object, while `price` still references `10`.\n",
    "\n",
    "This update depends on the **mutability** of the data type (which we eluded to before). In a nutshell, objects are either *mutable* or *immutable*. \n",
    "- If the object is mutable i.e., once an identifier is declared to an object, it can be updated (e.g., a list) = changes via one alias would affect the other.\n",
    "- If the object is immutable i.e., once an identifier is declared to an object, it cannot be updated (e.g., a tuple) = changes via one alias would **not** affect the other."
   ]
  },
  {
   "cell_type": "code",
   "execution_count": 20,
   "metadata": {},
   "outputs": [
    {
     "name": "stdout",
     "output_type": "stream",
     "text": [
      "4426072576\n",
      "4426072576\n",
      "True\n",
      "<class 'list'>\n"
     ]
    }
   ],
   "source": [
    "price = [0, 1, 2] # price references a list object\n",
    "y = price         # y becomes an alias of price (same object)\n",
    "print(id(price))\n",
    "print(id(y))\n",
    "print(id(price) == id(y))  # '==' operator checks for equivalence, depending on data type\n",
    "print(type(price))"
   ]
  },
  {
   "cell_type": "code",
   "execution_count": null,
   "metadata": {},
   "outputs": [
    {
     "name": "stdout",
     "output_type": "stream",
     "text": [
      "4426072576\n"
     ]
    }
   ],
   "source": [
    "y[0] = 5 # reassign first element\n",
    "print(id(y))"
   ]
  },
  {
   "cell_type": "markdown",
   "metadata": {},
   "source": [
    "Ha! We have a mutable object and can see that even updating `y`, it has the same memory address to `price` and thus they are equivalent."
   ]
  },
  {
   "cell_type": "code",
   "execution_count": 25,
   "metadata": {},
   "outputs": [
    {
     "name": "stdout",
     "output_type": "stream",
     "text": [
      "[5, 1, 2]\n",
      "[5, 1, 2]\n",
      "True\n",
      "True\n"
     ]
    }
   ],
   "source": [
    "print(y)\n",
    "print(price)\n",
    "print(y is price)\n",
    "print(y == price)"
   ]
  },
  {
   "cell_type": "markdown",
   "metadata": {},
   "source": [
    "## 1.2.1.5 - Creating and using Objects"
   ]
  },
  {
   "cell_type": "markdown",
   "metadata": {},
   "source": [
    "Objects can be created in 3 ways i.e., **instantiated**:\n",
    "\n",
    "1. Literal Syntax: Direct value assignment.\n",
    "\n",
    "    ```python\n",
    "    num = 42               # int instance\n",
    "    name = \"Alice\"         # str instance\n",
    "    ```\n",
    "\n",
    "2. Constructor: Explicitly calling a class (e.g., int()).\n",
    "\n",
    "    ```python\n",
    "    value = int(5)        # Same as literal 5\n",
    "    ```\n",
    "\n",
    "3. Factory Functions: Functions returning objects (e.g., sorted()).\n",
    "\n",
    "    ```python\n",
    "    numbers = sorted([3, 1, 2])  # Returns a new list instance\n",
    "    ```\n",
    "\n",
    "Once objects are created, different methods can be invoked."
   ]
  },
  {
   "cell_type": "markdown",
   "metadata": {},
   "source": [
    "***"
   ]
  },
  {
   "cell_type": "markdown",
   "metadata": {},
   "source": [
    "## Extra"
   ]
  },
  {
   "cell_type": "markdown",
   "metadata": {},
   "source": [
    "Below we are going to give a brief snippet into how one would create their own class and invoke different methods. This will be done in more depth in later chapters. We will start with trying to reinvent the `int` object.\n",
    "\n",
    "Note: The real `int` class in Python is far more complex, but this demonstrates the basic idea of a class defining behavior."
   ]
  },
  {
   "cell_type": "code",
   "execution_count": null,
   "metadata": {},
   "outputs": [],
   "source": [
    "# Simplified version of Python's built-in int class\n",
    "class IntClass:\n",
    "    \n",
    "    def __init__(self, value):\n",
    "        self.value = value  # Stores the integer value\n",
    "\n",
    "    def __add__(self, other):  # Defines the \"+\" operator behaviour\n",
    "        return IntClass(self.value + other.value)\n",
    "\n",
    "    def __sub__(self, other): # Defines the \"-\" operator behaviour\n",
    "        return IntClass(self.value - other.value)"
   ]
  },
  {
   "cell_type": "markdown",
   "metadata": {},
   "source": [
    "Some things to point out:\n",
    "\n",
    "1. A `constructor` is a special method that is called automatically when an object is created from a class. Its main role is to initialise the object by setting up its attributes or state. The `__init__` is a constructor that is called automatically when an object is created from a class.\n",
    "\n",
    "2. Using `__...__` i.e., underscores, is called a **dunder** method. They are defined by built-in classes in Python and commonly used for operator overloading. \n",
    "\n",
    "3. The `self` is a reference to the current instance of the class, and is used to access variables that belongs to the class. It does not have to be named `self` by the way..."
   ]
  },
  {
   "cell_type": "code",
   "execution_count": 27,
   "metadata": {},
   "outputs": [
    {
     "data": {
      "text/plain": [
       "['__abs__',\n",
       " '__add__',\n",
       " '__and__',\n",
       " '__bool__',\n",
       " '__ceil__',\n",
       " '__class__',\n",
       " '__delattr__',\n",
       " '__dir__',\n",
       " '__divmod__',\n",
       " '__doc__',\n",
       " '__eq__',\n",
       " '__float__',\n",
       " '__floor__',\n",
       " '__floordiv__',\n",
       " '__format__',\n",
       " '__ge__',\n",
       " '__getattribute__',\n",
       " '__getnewargs__',\n",
       " '__gt__',\n",
       " '__hash__',\n",
       " '__index__',\n",
       " '__init__',\n",
       " '__init_subclass__',\n",
       " '__int__',\n",
       " '__invert__',\n",
       " '__le__',\n",
       " '__lshift__',\n",
       " '__lt__',\n",
       " '__mod__',\n",
       " '__mul__',\n",
       " '__ne__',\n",
       " '__neg__',\n",
       " '__new__',\n",
       " '__or__',\n",
       " '__pos__',\n",
       " '__pow__',\n",
       " '__radd__',\n",
       " '__rand__',\n",
       " '__rdivmod__',\n",
       " '__reduce__',\n",
       " '__reduce_ex__',\n",
       " '__repr__',\n",
       " '__rfloordiv__',\n",
       " '__rlshift__',\n",
       " '__rmod__',\n",
       " '__rmul__',\n",
       " '__ror__',\n",
       " '__round__',\n",
       " '__rpow__',\n",
       " '__rrshift__',\n",
       " '__rshift__',\n",
       " '__rsub__',\n",
       " '__rtruediv__',\n",
       " '__rxor__',\n",
       " '__setattr__',\n",
       " '__sizeof__',\n",
       " '__str__',\n",
       " '__sub__',\n",
       " '__subclasshook__',\n",
       " '__truediv__',\n",
       " '__trunc__',\n",
       " '__xor__',\n",
       " 'as_integer_ratio',\n",
       " 'bit_count',\n",
       " 'bit_length',\n",
       " 'conjugate',\n",
       " 'denominator',\n",
       " 'from_bytes',\n",
       " 'imag',\n",
       " 'numerator',\n",
       " 'real',\n",
       " 'to_bytes']"
      ]
     },
     "execution_count": 27,
     "metadata": {},
     "output_type": "execute_result"
    }
   ],
   "source": [
    "# In-built classes for int\n",
    "dir(int)"
   ]
  },
  {
   "cell_type": "markdown",
   "metadata": {},
   "source": [
    "Now, let's see how to:\n",
    "\n",
    "1. Create **instances** of the class object `IntClass`.\n",
    "2. Apply the **dunder** methods."
   ]
  },
  {
   "cell_type": "code",
   "execution_count": 28,
   "metadata": {},
   "outputs": [
    {
     "name": "stdout",
     "output_type": "stream",
     "text": [
      "8\n",
      "2\n"
     ]
    }
   ],
   "source": [
    "num1 = IntClass(5)   # Create an instance with value 5\n",
    "num2 = IntClass(3)   # Create another instance with value 3\n",
    "add_result = num1 + num2 # Uses __add__ method\n",
    "subtract_result = num1 - num2 # Uses __sub__ method\n",
    "print(add_result.value) \n",
    "print(subtract_result.value) "
   ]
  },
  {
   "cell_type": "markdown",
   "metadata": {},
   "source": [
    "What really is happening when we do `num1 + num2`? We are executing `num1.__add__(num2)`, which is the same as `IntClass(5).__add__(IntClass(3))`."
   ]
  },
  {
   "cell_type": "markdown",
   "metadata": {},
   "source": [
    "***"
   ]
  },
  {
   "cell_type": "markdown",
   "metadata": {},
   "source": [
    "# Final Remarks:"
   ]
  },
  {
   "cell_type": "markdown",
   "metadata": {},
   "source": [
    "Congratulations on completing Part 1 Week 2 of the Python Bootcamp! 🎉\n",
    "\n",
    "This week, you’ve learned extensively about objects, classes, types and referencing. To consolidate all of this, try having a read of the file `str.py` to get a feel of how classes work. \n",
    "\n",
    "Remember, programming is a skill that grows with practice. Take time to experiment with the code, make changes, and see how they affect the output. Don’t hesitate to revisit the material if needed—mastery comes with repetition and curiosity.\n",
    "\n",
    "In the next part, we will dive into discussing built-in classes. Get ready to build more exciting programs and unlock the full potential of Python!\n",
    "\n",
    "Keep coding, stay curious, and see you in Part 2 Week 2! 🚀\n",
    "\n",
    "© PolyNath AI"
   ]
  }
 ],
 "metadata": {
  "kernelspec": {
   "display_name": "polynath-api-test",
   "language": "python",
   "name": "python3"
  },
  "language_info": {
   "codemirror_mode": {
    "name": "ipython",
    "version": 3
   },
   "file_extension": ".py",
   "mimetype": "text/x-python",
   "name": "python",
   "nbconvert_exporter": "python",
   "pygments_lexer": "ipython3",
   "version": "3.10.0"
  }
 },
 "nbformat": 4,
 "nbformat_minor": 2
}
