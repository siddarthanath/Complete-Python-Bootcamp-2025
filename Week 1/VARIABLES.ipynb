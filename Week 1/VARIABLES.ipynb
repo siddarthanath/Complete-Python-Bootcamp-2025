{
 "cells": [
  {
   "attachments": {},
   "cell_type": "markdown",
   "metadata": {},
   "source": [
    "# Variables and Data Types"
   ]
  },
  {
   "attachments": {},
   "cell_type": "markdown",
   "metadata": {},
   "source": [
    "In this section, we will delve into the fundamental concepts of variables and data types in Python. Through hands-on examples and exercises, you will gain a solid understanding of how variables are assigned and manipulated in Python. Additionally, we will cover mathematical operators, which are essential for performing arithmetic operations on numeric variables. Below is a table overview:\n",
    "\n",
    "| Topic | Link |\n",
    "| --- | --- |\n",
    "| Declaring and Assigning Variables | [Link](#Declaring-And-Assigning-Variables) |\n",
    "| Mathematical Operators | [Link](#Mathematical-Operators) |"
   ]
  },
  {
   "cell_type": "markdown",
   "metadata": {},
   "source": [
    "***"
   ]
  },
  {
   "attachments": {},
   "cell_type": "markdown",
   "metadata": {},
   "source": [
    "## Declaring and Assigning Variables"
   ]
  },
  {
   "attachments": {},
   "cell_type": "markdown",
   "metadata": {},
   "source": [
    "Declaring variables is a fundamental concept in programming that involves assigning a name to a value or data. In Python, declaring variables is straightforward and doesn't require explicit type declaration. You simply choose a name for the variable and use the assignment operator `(=)` to assign a value to it. Python dynamically infers the data type based on the assigned value. By declaring variables, you can store and manipulate data, making your code more flexible and powerful."
   ]
  },
  {
   "cell_type": "code",
   "execution_count": null,
   "metadata": {},
   "outputs": [],
   "source": [
    "# A string variable storing a name\n",
    "name = \"John\"  \n",
    "# An integer variable storing an age\n",
    "age = 25  \n",
    "# A float variable storing a height in meters\n",
    "height = 1.75  \n",
    "# Printing the variables\n",
    "print(\"Name:\", name)\n",
    "print(\"Age:\", age)\n",
    "print(\"Height:\", height)"
   ]
  },
  {
   "attachments": {},
   "cell_type": "markdown",
   "metadata": {},
   "source": [
    "The `print()` function takes one or more arguments, which are separated by commas, allowing us to display output to the console. In this case, each line of code has a string literal (e.g., \"Name:\", \"Age:\", \"Height:\") and a variable (name, age, height) as arguments. This effect can be also achieved by the use of `f-string`."
   ]
  },
  {
   "cell_type": "code",
   "execution_count": null,
   "metadata": {},
   "outputs": [],
   "source": [
    "# Printing the variables\n",
    "print(f\"Name: {name}\")"
   ]
  },
  {
   "cell_type": "markdown",
   "metadata": {},
   "source": [
    "We wrap the contents around quotation marks and put a *f* at the start and then we use curly brackets to then place variables inside them, which will then be printed."
   ]
  },
  {
   "cell_type": "markdown",
   "metadata": {},
   "source": [
    "***"
   ]
  },
  {
   "attachments": {},
   "cell_type": "markdown",
   "metadata": {},
   "source": [
    "## Mathematical Operators"
   ]
  },
  {
   "attachments": {},
   "cell_type": "markdown",
   "metadata": {},
   "source": [
    "Mathematical operators in programming are symbols or characters that perform specific mathematical computations on numeric values. They allow you to manipulate numbers, perform calculations, and solve mathematical problems within your code. Below is a brief table of common data types:\n",
    "\n",
    "| Operator | Description |\n",
    "| --- | --- |\n",
    "| `+` | Addition |\n",
    "| `-` | Subtraction |\n",
    "| `*` | Multiplication |\n",
    "| `/` | Division |\n",
    "| `//` | Floor Division |\n",
    "| `**` | Exponentiation |\n",
    "| `%` | Modulo (remainder) |"
   ]
  },
  {
   "cell_type": "code",
   "execution_count": null,
   "metadata": {},
   "outputs": [],
   "source": [
    "# Addition\n",
    "num1 = 5\n",
    "num2 = 3\n",
    "result = num1 + num2\n",
    "print(\"Addition result:\", result)"
   ]
  },
  {
   "cell_type": "code",
   "execution_count": null,
   "metadata": {},
   "outputs": [],
   "source": [
    "# Subtraction\n",
    "num1 = 10\n",
    "num2 = 7\n",
    "result = num1 - num2\n",
    "print(\"Subtraction result:\", result)"
   ]
  },
  {
   "cell_type": "code",
   "execution_count": null,
   "metadata": {},
   "outputs": [],
   "source": [
    "# Multiplication\n",
    "num1 = 4\n",
    "num2 = 6\n",
    "result = num1 * num2\n",
    "print(\"Multiplication result:\", result)"
   ]
  },
  {
   "cell_type": "code",
   "execution_count": null,
   "metadata": {},
   "outputs": [],
   "source": [
    "# Division\n",
    "num1 = 10\n",
    "num2 = 2\n",
    "result = num1 / num2\n",
    "print(\"Division result:\", result)"
   ]
  },
  {
   "cell_type": "code",
   "execution_count": null,
   "metadata": {},
   "outputs": [],
   "source": [
    "# Exponentiation\n",
    "base = 2\n",
    "exponent = 3\n",
    "result = base ** exponent\n",
    "print(\"Exponentiation result:\", result)"
   ]
  },
  {
   "cell_type": "code",
   "execution_count": null,
   "metadata": {},
   "outputs": [],
   "source": [
    "# Modulo\n",
    "num1 = 10\n",
    "num2 = 3\n",
    "result = num1 % num2\n",
    "print(\"Modulo result:\", result)"
   ]
  },
  {
   "cell_type": "markdown",
   "metadata": {},
   "source": [
    "***"
   ]
  },
  {
   "attachments": {},
   "cell_type": "markdown",
   "metadata": {},
   "source": [
    "# Final Remarks"
   ]
  },
  {
   "attachments": {},
   "cell_type": "markdown",
   "metadata": {},
   "source": [
    "Thank you for reading this notebook. Note that this is not an exhaustive notebook - there are many more things that can be done with variables and data types and I would advise further reading about this topic in the following book: [Python Programming for Beginners](https://bugs.python.org/file47781/Tutorial_EDIT.pdf).\n",
    "<br>\n",
    "If there are any mistakes or things that need more clarity, feel free to respond and I will be happy to reply 😊.\n",
    "\n",
    "© *PolyNath 2023*"
   ]
  }
 ],
 "metadata": {
  "kernelspec": {
   "display_name": "msc-2023",
   "language": "python",
   "name": "msc-2023"
  },
  "language_info": {
   "codemirror_mode": {
    "name": "ipython",
    "version": 3
   },
   "file_extension": ".py",
   "mimetype": "text/x-python",
   "name": "python",
   "nbconvert_exporter": "python",
   "pygments_lexer": "ipython3",
   "version": "3.9.0"
  },
  "orig_nbformat": 4
 },
 "nbformat": 4,
 "nbformat_minor": 2
}
