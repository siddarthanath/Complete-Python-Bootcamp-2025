{
 "cells": [
  {
   "cell_type": "markdown",
   "metadata": {},
   "source": [
    "# Built-In Classes (1.2.2)"
   ]
  },
  {
   "cell_type": "markdown",
   "metadata": {},
   "source": [
    "This notebook gives an overview as to what **built-in classes** exist in Python and how they are utilised."
   ]
  },
  {
   "cell_type": "markdown",
   "metadata": {},
   "source": [
    "## 1.2.2.1 - What is a class?"
   ]
  },
  {
   "cell_type": "markdown",
   "metadata": {},
   "source": [
    "1. Python is an **object-oriented** language where everything is an object.\n",
    "2. A class is a code template for creating objects. \n",
    "    - In a class, you can define attributes, methods, properties etc... (more will be discussed in the `Class` section)."
   ]
  },
  {
   "cell_type": "markdown",
   "metadata": {},
   "source": [
    "## 1.2.2.2 Python Built-in Classes\n"
   ]
  },
  {
   "cell_type": "markdown",
   "metadata": {},
   "source": [
    "1. Python provides several commonly used **built-in classes**, some mutable and some immutable. Understanding which classes are mutable is important for program behavior.\n",
    "\n",
    "| Class      | Description                        | Immutable? |\n",
    "|------------|-----------------------------------|------------|\n",
    "| bool       | Boolean value                     | ✅ Yes     |\n",
    "| int        | Integer (arbitrary magnitude)     | ✅ Yes     |\n",
    "| float      | Floating-point number             | ✅ Yes     |\n",
    "| list       | Mutable sequence of objects       | ❌ No      |\n",
    "| tuple      | Immutable sequence of objects     | ✅ Yes     |\n",
    "| str        | Character string                  | ✅ Yes     |\n",
    "| set        | Unordered set of distinct objects | ❌ No      |\n",
    "| frozenset  | Immutable form of set             | ✅ Yes     |\n",
    "| dict       | Associative mapping (dictionary)  | ❌ No      |\n",
    "\n",
    "> **Note:** A class is immutable if its value cannot be changed after creation.  "
   ]
  },
  {
   "cell_type": "markdown",
   "metadata": {},
   "source": [
    "## 1.2.2.3 Bool"
   ]
  },
  {
   "cell_type": "markdown",
   "metadata": {},
   "source": [
    "1. The `bool` class represents logical values: `True` and `False`.\n",
    "\n",
    "```python\n",
    "# Boolean literals\n",
    "x = True\n",
    "y = False\n",
    "```"
   ]
  },
  {
   "cell_type": "code",
   "execution_count": null,
   "metadata": {},
   "outputs": [],
   "source": [
    "# Converting non-boolean values\n",
    "print(bool(0))       # False\n",
    "print(bool(42))      # True\n",
    "print(bool([]))      # False\n",
    "print(bool([1,2,3])) # True"
   ]
  },
  {
   "cell_type": "markdown",
   "metadata": {},
   "source": [
    "> **Note:** Numbers evaluate to False if zero, True otherwise. Sequences or containers evaluate to False if empty, True if nonempty."
   ]
  },
  {
   "cell_type": "markdown",
   "metadata": {},
   "source": [
    "## 1.2.2.4 Int"
   ]
  },
  {
   "cell_type": "markdown",
   "metadata": {},
   "source": [
    "1. Python integers (int) have arbitrary magnitude.\n",
    "\n",
    "2. There is unlimited precision and by default, all integers are signed i.e., no unsigned type exists and noo fixed bit size so it can grow infinitely large:\n",
    "\n",
    "```python\n",
    "x = -10        # signed (can be negative)\n",
    "y = 10**100    # no overflow! automatic expansion\n",
    "```"
   ]
  },
  {
   "cell_type": "code",
   "execution_count": 1,
   "metadata": {},
   "outputs": [],
   "source": [
    "a = 137\n",
    "b = -23\n",
    "c = 0b1011  # binary literal\n",
    "d = 0o52    # octal literal\n",
    "e = 0x7f    # hexadecimal literal"
   ]
  },
  {
   "cell_type": "code",
   "execution_count": 3,
   "metadata": {},
   "outputs": [
    {
     "data": {
      "text/plain": [
       "(11, 42, 127)"
      ]
     },
     "execution_count": 3,
     "metadata": {},
     "output_type": "execute_result"
    }
   ],
   "source": [
    "c, d, e"
   ]
  },
  {
   "cell_type": "markdown",
   "metadata": {},
   "source": [
    "You can construct integers from floats or strings:"
   ]
  },
  {
   "cell_type": "code",
   "execution_count": null,
   "metadata": {},
   "outputs": [
    {
     "name": "stdout",
     "output_type": "stream",
     "text": [
      "3\n",
      "-3\n",
      "137\n",
      "127\n"
     ]
    }
   ],
   "source": [
    "print(int(3.14))   # 3 ; this essentially utilises the floor functionality\n",
    "print(int(-3.9))   # -3 ; this essentially utilises the ceil functionality\n",
    "print(int(\"137\"))  # 137\n",
    "print(int(\"7f\", 16)) # 127 i.e., base16"
   ]
  },
  {
   "cell_type": "markdown",
   "metadata": {},
   "source": [
    "## 1.2.2.5 Float"
   ]
  },
  {
   "cell_type": "markdown",
   "metadata": {},
   "source": [
    "1. Python’s float is a fixed-precision floating-point type.\n",
    "\n",
    "```python\n",
    "x = 2.0\n",
    "y = 98.6\n",
    "z = 6.022e23  # scientific notation\n",
    "```\n",
    "\n",
    "2. Like the int class, if any non-numeric passed, it will try automatic type conversion (if allowed), otherwise will raise a ValueError exception."
   ]
  },
  {
   "cell_type": "code",
   "execution_count": 9,
   "metadata": {},
   "outputs": [
    {
     "name": "stdout",
     "output_type": "stream",
     "text": [
      "0.0\n",
      "2.0\n",
      "3.14\n"
     ]
    }
   ],
   "source": [
    "print(float())\n",
    "print(float(2))      # 2.0\n",
    "print(float(\"3.14\")) # 3.14"
   ]
  },
  {
   "cell_type": "markdown",
   "metadata": {},
   "source": [
    "## 1.2.2.6 Sequence Types"
   ]
  },
  {
   "cell_type": "markdown",
   "metadata": {},
   "source": [
    "### List"
   ]
  },
  {
   "cell_type": "markdown",
   "metadata": {},
   "source": [
    "1. List stores sequence of objects and is **mutable**.\n",
    "2. It is a **referential** structure i.e., it stores a sequence of _references_ to its elements. \n",
    "3. Lists are **array-based** sequences and are **zero-indexed** i.e., first element is at index 0. They have the ability of dynamically expand and contract in size (similar to dictionaries).\n",
    "4. The list class will accept any input that is of an **iterable** type."
   ]
  },
  {
   "cell_type": "code",
   "execution_count": 84,
   "metadata": {},
   "outputs": [
    {
     "data": {
      "text/plain": [
       "(['red', 'green', 'blue'],\n",
       " ['h', 'e', 'l', 'l', 'o'],\n",
       " [2, 'hi', None, 7, 11, 13],\n",
       " [],\n",
       " [])"
      ]
     },
     "execution_count": 84,
     "metadata": {},
     "output_type": "execute_result"
    }
   ],
   "source": [
    "# List\n",
    "a = [\"red\", \"green\", \"blue\"]\n",
    "b = list(\"hello\")\n",
    "c = [2, \"hi\", None, 7, 11, 13]\n",
    "d = list()\n",
    "e = []\n",
    "\n",
    "a, b, c, d, e"
   ]
  },
  {
   "cell_type": "code",
   "execution_count": 81,
   "metadata": {},
   "outputs": [
    {
     "name": "stdout",
     "output_type": "stream",
     "text": [
      "2893921332032 2893921332032\n",
      "[1, 'green', 'blue'] [1, 'green', 'blue']\n"
     ]
    }
   ],
   "source": [
    "# Given that lists are mutable, if we alter a list contents, it will also alter in any reference to it\n",
    "x = a\n",
    "print(id(x), id(a))\n",
    "# Alter element\n",
    "a[0] = 1\n",
    "print(x, a)"
   ]
  },
  {
   "cell_type": "markdown",
   "metadata": {},
   "source": [
    "Earlier we saw that a list is a mutable object - this means, by construction, it follows the **pass by reference** protocol i.e., when passed into a function, even though the function internals are _local_, any manipulation to a reference list object, will be applied."
   ]
  },
  {
   "cell_type": "code",
   "execution_count": 82,
   "metadata": {},
   "outputs": [],
   "source": [
    "def add_to_itself(data):\n",
    "    # Update a list by adding itself to it\n",
    "    data += data"
   ]
  },
  {
   "cell_type": "code",
   "execution_count": 83,
   "metadata": {},
   "outputs": [
    {
     "data": {
      "text/plain": [
       "[1, 'green', 'blue', 1, 'green', 'blue']"
      ]
     },
     "execution_count": 83,
     "metadata": {},
     "output_type": "execute_result"
    }
   ],
   "source": [
    "add_to_itself(a)\n",
    "a"
   ]
  },
  {
   "cell_type": "markdown",
   "metadata": {},
   "source": [
    "### Tuple"
   ]
  },
  {
   "cell_type": "markdown",
   "metadata": {},
   "source": [
    "1. Tuple is essentially a list but an **immutable** version (so much more constrained and stripped down).\n",
    "2. This means that once a tuple is set, it cannot be modified - this useful for security performances as it means data can't be accidentally changed. It is also slightly faster than a list and is **hashable** i.e., can be used as dictionary keys or set elements."
   ]
  },
  {
   "cell_type": "code",
   "execution_count": 91,
   "metadata": {},
   "outputs": [
    {
     "data": {
      "text/plain": [
       "((), (), (16,), ('hi', 2))"
      ]
     },
     "execution_count": 91,
     "metadata": {},
     "output_type": "execute_result"
    }
   ],
   "source": [
    "f = tuple()\n",
    "g = ()\n",
    "h = (16, ) \n",
    "i = ('hi', 2)\n",
    "\n",
    "f, g, h, i"
   ]
  },
  {
   "cell_type": "markdown",
   "metadata": {},
   "source": [
    "### String"
   ]
  },
  {
   "cell_type": "markdown",
   "metadata": {},
   "source": [
    "1. String class is specifically designed to efficiently represent an **immutable** sequence of characters, based upon the Unicode international character set.\n",
    "2. Strings can be created via `str` class or single/double quotation marks.\n",
    "3. If you use triple quotation marks, this allows for multiline statement writing."
   ]
  },
  {
   "cell_type": "code",
   "execution_count": 94,
   "metadata": {},
   "outputs": [
    {
     "data": {
      "text/plain": [
       "('', '', 'lol')"
      ]
     },
     "execution_count": 94,
     "metadata": {},
     "output_type": "execute_result"
    }
   ],
   "source": [
    "j = str()\n",
    "k = \"\"\n",
    "l = \"lol\"\n",
    "\n",
    "j, k, l"
   ]
  },
  {
   "cell_type": "markdown",
   "metadata": {},
   "source": [
    "### "
   ]
  },
  {
   "cell_type": "markdown",
   "metadata": {},
   "source": [
    "***"
   ]
  },
  {
   "cell_type": "markdown",
   "metadata": {},
   "source": [
    "## Extra"
   ]
  },
  {
   "cell_type": "markdown",
   "metadata": {},
   "source": [
    "### Integers"
   ]
  },
  {
   "cell_type": "markdown",
   "metadata": {},
   "source": [
    "1. In C++, there is a concept of _signed_ vs _unsigned_ integers (since there is fixed bit size):\n",
    "    - Signed:\n",
    "        - Can be positive, negative or zero\n",
    "        - The leftmost bit defines the **sign** bit i.e., if 0, then integer is positive and if 1 then negative\n",
    "\n",
    "    ```cpp\n",
    "    int x = -10; // 32-bit: ranges from -2.1billion to 2.1billion\n",
    "    short y = 100; // 16-bit: ranges from -32768 to 32767\n",
    "    ```\n",
    "\n",
    "    - Unsigned:\n",
    "        - Only 0 and positive numbers\n",
    "        - All bits are used for the magnitude\n",
    "\n",
    "    ```cpp\n",
    "    unsigned int a = 10; // 32-bit: ranges from 0 to 4.3billion\n",
    "    unsigned char b = 255; // 8-bit: ranges from 0 to 255\n",
    "    ```\n",
    "\n",
    "A key thing to remember is that we can utilise the same bits but have a different interpretation (in C++):\n",
    "\n",
    "```python\n",
    "11111111 in unsigned char = 255\n",
    "11111111 in signed char   = -1\n",
    "```\n",
    "\n",
    "2. To see why 11111111 in signed char = -1, we first note that signed utilises both positive and negative. Note that a char, in C++, is 8bits (so 1 byte) and thus ranges from -128 to 127. To get -1:\n",
    "\n",
    "    - First define 1, which is 00000001\n",
    "    - Find the complement of 1 i.e., flip all bits, which gives 11111110\n",
    "    - Since 1 + (-1) = 0, if we just kept it as 11111110, we would get 00000001 + 11111110 = 11111111, which is not 0. Hence, we need to add 1, which gives us 11111111 - now if we do 00000001 + 11111111 = 100000000 = 00000000 (the 1 on the leftmost gets dropped due to overflow)."
   ]
  },
  {
   "cell_type": "markdown",
   "metadata": {},
   "source": [
    "### Operators"
   ]
  },
  {
   "cell_type": "markdown",
   "metadata": {},
   "source": [
    "Note that we defined an empty list in 2 different ways - these objects may look the same however they are not the same object in memory (this differentiates between using `==` operator vs `is` operator). This is not the case as other objects, in which their standard default do match e.g., `tuple()` and `()` have equality and are both the same object in memory."
   ]
  },
  {
   "cell_type": "code",
   "execution_count": 85,
   "metadata": {},
   "outputs": [
    {
     "data": {
      "text/plain": [
       "(2893921899392, 2893921393664)"
      ]
     },
     "execution_count": 85,
     "metadata": {},
     "output_type": "execute_result"
    }
   ],
   "source": [
    "id(d), id(e)"
   ]
  },
  {
   "cell_type": "code",
   "execution_count": 87,
   "metadata": {},
   "outputs": [
    {
     "data": {
      "text/plain": [
       "(False, True)"
      ]
     },
     "execution_count": 87,
     "metadata": {},
     "output_type": "execute_result"
    }
   ],
   "source": [
    "d is e, d == e"
   ]
  },
  {
   "cell_type": "markdown",
   "metadata": {},
   "source": [
    "***"
   ]
  },
  {
   "cell_type": "markdown",
   "metadata": {},
   "source": [
    "# Final Remarks:"
   ]
  },
  {
   "cell_type": "markdown",
   "metadata": {},
   "source": [
    "Congratulations on completing Part 1 Week 2 of the Python Bootcamp! 🎉\n",
    "\n",
    "This week, you’ve taken your first steps into the world of Python programming. You’ve learned about the Python interpreter, how to write and run scripts, and the importance of syntax, whitespace, and indentation. To consolidate all of this, try having a read of the file `sum.py` to get a feel of how a Python program is setup. \n",
    "\n",
    "Remember, programming is a skill that grows with practice. Take time to experiment with the code, make changes, and see how they affect the output. Don’t hesitate to revisit the material if needed—mastery comes with repetition and curiosity.\n",
    "\n",
    "Next week, we’ll dive deeper into Python’s core concepts, including variables, data types, and control structures. Get ready to build more exciting programs and unlock the full potential of Python!\n",
    "\n",
    "Keep coding, stay curious, and see you in Part 2 Week 2! 🚀\n",
    "\n",
    "© PolyNath AI"
   ]
  }
 ],
 "metadata": {
  "kernelspec": {
   "display_name": "polynath-api-test",
   "language": "python",
   "name": "python3"
  },
  "language_info": {
   "codemirror_mode": {
    "name": "ipython",
    "version": 3
   },
   "file_extension": ".py",
   "mimetype": "text/x-python",
   "name": "python",
   "nbconvert_exporter": "python",
   "pygments_lexer": "ipython3",
   "version": "3.10.0"
  }
 },
 "nbformat": 4,
 "nbformat_minor": 2
}
