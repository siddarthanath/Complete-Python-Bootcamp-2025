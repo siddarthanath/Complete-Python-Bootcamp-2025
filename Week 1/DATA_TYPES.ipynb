{
 "cells": [
  {
   "attachments": {},
   "cell_type": "markdown",
   "metadata": {},
   "source": [
    "# Data Types"
   ]
  },
  {
   "attachments": {},
   "cell_type": "markdown",
   "metadata": {},
   "source": [
    "In this section, we will delve into the fundamental concepts of data types in Python. You will learn explore different data types such as numbers, strings, lists and booleans. Through hands-on examples and exercises, you will gain a solid understanding of how variables are stored and manipulated in Python.\n",
    "\n",
    "| Topic | Link |\n",
    "| --- | --- |\n",
    "| Data Types | [Link](#Data-Types) |\n",
    "| User Input/Output | [Link](#User-Input-Output) |"
   ]
  },
  {
   "cell_type": "markdown",
   "metadata": {},
   "source": [
    "***"
   ]
  },
  {
   "attachments": {},
   "cell_type": "markdown",
   "metadata": {},
   "source": [
    "## Data Types"
   ]
  },
  {
   "attachments": {},
   "cell_type": "markdown",
   "metadata": {},
   "source": [
    "Below is a brief table of common data types:\n",
    "\n",
    "| Data Type | Description |\n",
    "| --- | --- |\n",
    "| `int` | Integer numbers (e.g., 1, -5, 100) |\n",
    "| `float` | Floating-point numbers (e.g., 3.14, -2.5, 0.75) |\n",
    "| `str` | Strings (sequences of characters, enclosed in quotes) |\n",
    "| `bool` | Boolean values (`True` or `False`) |\n",
    "| `list` | Ordered collection of elements |\n",
    "| `tuple` | Immutable ordered collection of elements |\n",
    "| `dict` | Key-value pairs, also known as dictionaries |\n",
    "| `set` | Unordered collection of unique elements |"
   ]
  },
  {
   "attachments": {},
   "cell_type": "markdown",
   "metadata": {},
   "source": [
    "### Int"
   ]
  },
  {
   "cell_type": "code",
   "execution_count": null,
   "metadata": {},
   "outputs": [],
   "source": [
    "# Integer data type\n",
    "integer = 5"
   ]
  },
  {
   "attachments": {},
   "cell_type": "markdown",
   "metadata": {},
   "source": [
    "If declaring a variable as a `float` and we want it as an integer, we can apply the `int()` function around the variable. This function rounds the number to the lowest integer that is closest to the number i.e. it acts as a `floor` function. This is known as `type` casting, where we apply a `type` function on a variable which is different to the `type` of the variable."
   ]
  },
  {
   "cell_type": "code",
   "execution_count": null,
   "metadata": {},
   "outputs": [],
   "source": [
    "# Float data type\n",
    "float_value = 4.0\n",
    "print(\"4.0 as an integer:\", int(float_value))"
   ]
  },
  {
   "cell_type": "code",
   "execution_count": null,
   "metadata": {},
   "outputs": [],
   "source": [
    "# Float data type\n",
    "float_value = 4.3\n",
    "print(\"4.3 as an integer:\", int(float_value))"
   ]
  },
  {
   "cell_type": "code",
   "execution_count": null,
   "metadata": {},
   "outputs": [],
   "source": [
    "# Float data type\n",
    "float_value = 4.5\n",
    "print(\"4.5 as an integer:\", int(float_value))"
   ]
  },
  {
   "cell_type": "code",
   "execution_count": null,
   "metadata": {},
   "outputs": [],
   "source": [
    "# Float data type\n",
    "float_value = 4.6\n",
    "print(\"4.6 as an integer:\", int(float_value))"
   ]
  },
  {
   "attachments": {},
   "cell_type": "markdown",
   "metadata": {},
   "source": [
    "### Boolean"
   ]
  },
  {
   "cell_type": "code",
   "execution_count": null,
   "metadata": {},
   "outputs": [],
   "source": [
    "# Boolean data type\n",
    "is_raining = True\n",
    "is_sunny = False\n",
    "print(\"Is it raining?\", is_raining)\n",
    "print(\"Is it sunny?\", is_sunny)"
   ]
  },
  {
   "cell_type": "code",
   "execution_count": null,
   "metadata": {},
   "outputs": [],
   "source": [
    "# Logical operations\n",
    "temperature = 25\n",
    "is_warm = temperature > 20\n",
    "is_summer = True\n",
    "print(\"Is it warm?\", is_warm)\n",
    "print(\"Is it summer?\", is_summer)\n",
    "print(\"Is it warm in summer?\", is_warm and is_summer)"
   ]
  },
  {
   "attachments": {},
   "cell_type": "markdown",
   "metadata": {},
   "source": [
    "We can also use `0` and `1` to define as `False` and `True` variables when used in `if/else` or `and/or` statements. We give a brief demonstration of this through chain-comparisons:"
   ]
  },
  {
   "cell_type": "code",
   "execution_count": null,
   "metadata": {},
   "outputs": [],
   "source": [
    "# Chaining comparisons with 'and'\n",
    "x = 5\n",
    "# Check if x is greater than 0 and less than 10\n",
    "if x > 0 and x < 10:\n",
    "    print(\"x is between 0 and 10.\")\n"
   ]
  },
  {
   "cell_type": "code",
   "execution_count": null,
   "metadata": {},
   "outputs": [],
   "source": [
    "# Chaining multiple conditions with 'and'\n",
    "y = 15\n",
    "# Check if y is greater than 10 and less than 20 and divisible by 3\n",
    "if y > 10 and y < 20 and y % 3 == 0:\n",
    "    print(\"y is between 10 and 20 and divisible by 3.\")"
   ]
  },
  {
   "cell_type": "code",
   "execution_count": null,
   "metadata": {},
   "outputs": [],
   "source": [
    "# Chaining comparisons with 'or'\n",
    "z = 25\n",
    "# Check if z is less than 10 or greater than 20\n",
    "if z < 10 or z > 20:\n",
    "    print(\"z is either less than 10 or greater than 20.\")"
   ]
  },
  {
   "cell_type": "code",
   "execution_count": null,
   "metadata": {},
   "outputs": [],
   "source": [
    "# Chaining multiple conditions with 'or'\n",
    "w = -5\n",
    "# Check if w is less than -10 or greater than 10 or equal to 0\n",
    "if w < -10 or w > 10 or w == 0:\n",
    "    print(\"w is either less than -10 or greater than 10 or equal to 0.\")\n",
    "else:\n",
    "    print(\"w does not satisfy the conditions.\")"
   ]
  },
  {
   "cell_type": "code",
   "execution_count": null,
   "metadata": {},
   "outputs": [],
   "source": [
    "# Combining 'and' and 'or'\n",
    "x = 7\n",
    "# Check if x is greater than 0 and either divisible by 2 or 3\n",
    "if x > 0 and (x % 2 == 0 or x % 3 == 0):\n",
    "    print(\"x is greater than 0 and divisible by 2 or 3.\")\n",
    "else:\n",
    "    print(\"x does not satisfy the conditions.\")"
   ]
  },
  {
   "attachments": {},
   "cell_type": "markdown",
   "metadata": {},
   "source": [
    "- The condition `x > 0` checks if `x` is greater than `0`, and the expression `(x % 2 == 0 or x % 3 == 0)` checks if `x` is divisible by either `2` or `3`. \n",
    "- The `or` operator evaluates to `True` if at least one of the conditions is satisfied."
   ]
  },
  {
   "attachments": {},
   "cell_type": "markdown",
   "metadata": {},
   "source": [
    "### String"
   ]
  },
  {
   "cell_type": "code",
   "execution_count": null,
   "metadata": {},
   "outputs": [],
   "source": [
    "# String data type\n",
    "sentence = \"Python is a powerful programming language.\""
   ]
  },
  {
   "cell_type": "code",
   "execution_count": null,
   "metadata": {},
   "outputs": [],
   "source": [
    "# Sentence manipulation\n",
    "length = len(sentence)\n",
    "print(\"Length of the sentence:\", length)\n",
    "print(\"Uppercase sentence:\", sentence.upper())\n",
    "print(\"Reversed sentence:\", sentence[::-1])"
   ]
  },
  {
   "cell_type": "code",
   "execution_count": null,
   "metadata": {},
   "outputs": [],
   "source": [
    "# Slicing\n",
    "print(\"First five characters:\", sentence[:5])  \n",
    "print(\"Last five characters:\", sentence[-5:])  \n",
    "print(\"Every second character:\", sentence[::2]) \n",
    "print(\"Second to fifth character:\", sentence[2:5])  "
   ]
  },
  {
   "cell_type": "code",
   "execution_count": null,
   "metadata": {},
   "outputs": [],
   "source": [
    "# Splitting the sentence into words\n",
    "words = sentence.split()\n",
    "print(\"List of words:\", words)"
   ]
  },
  {
   "cell_type": "code",
   "execution_count": null,
   "metadata": {},
   "outputs": [],
   "source": [
    "# Joining the words with a custom separator\n",
    "separator = \"-\"\n",
    "joined_sentence = separator.join(words)\n",
    "print(\"Joined sentence:\", joined_sentence)"
   ]
  },
  {
   "attachments": {},
   "cell_type": "markdown",
   "metadata": {},
   "source": [
    "- Length of the sentence using `len()`. This returns the number of characters in the string.\n",
    "- Slicing with indexing. We demonstrate extracting the first five characters of the sentence using sentence[:5] etc.... The `start:end:step` format is used for slicing.\n",
    "- Splitting the sentence into a list of words using `split()`. This splits the string at each whitespace character (by default) and returns a list of individual words.\n",
    "- Joining the words back together into a sentence using `join()`. We specify a custom separator (in this case, a hyphen -) and apply join() on the words list."
   ]
  },
  {
   "cell_type": "code",
   "execution_count": null,
   "metadata": {},
   "outputs": [],
   "source": [
    "# String formatting using format()\n",
    "name = \"Alice\"\n",
    "age = 25\n",
    "formatted_string = \"My name is {} and I am {} years old.\".format(name, age)\n",
    "print(formatted_string)"
   ]
  },
  {
   "cell_type": "code",
   "execution_count": null,
   "metadata": {},
   "outputs": [],
   "source": [
    "# Using eval() to evaluate an expression in a string\n",
    "expression = \"2 + 3 * 4\"\n",
    "result = eval(expression)\n",
    "print(\"Result of the expression:\", result)"
   ]
  },
  {
   "cell_type": "code",
   "execution_count": null,
   "metadata": {},
   "outputs": [],
   "source": [
    "# Using f-strings for string interpolation\n",
    "product = \"apple\"\n",
    "price = 1.25\n",
    "quantity = 3\n",
    "total = price * quantity\n",
    "print(f\"I bought {quantity} {product}s for ${total:.2f}\")"
   ]
  },
  {
   "cell_type": "code",
   "execution_count": null,
   "metadata": {},
   "outputs": [],
   "source": [
    "# Formatting string using %d for integers\n",
    "num1 = 10\n",
    "num2 = 5\n",
    "formatted_int = \"The sum of %d and %d is %d.\" % (num1, num2, num1 + num2)\n",
    "print(formatted_int)"
   ]
  },
  {
   "cell_type": "code",
   "execution_count": null,
   "metadata": {},
   "outputs": [],
   "source": [
    "# Formatting string using %.3f for floats\n",
    "pi = 3.1415926\n",
    "formatted_float = \"The value of pi is approximately %.3f.\" % pi\n",
    "print(formatted_float)"
   ]
  },
  {
   "attachments": {},
   "cell_type": "markdown",
   "metadata": {},
   "source": [
    "- `format()`: To format strings by substituting values into placeholders `{}`.\n",
    "- `eval()`: To evaluate an expression stored as a string and obtain the result.\n",
    "- `f-strings`: To embed expressions and variables within string literals using curly braces `{}`.\n",
    "- `%d`: To represent integers in a formatted string using the `%` operator.\n",
    "- `%.3f`: To represent floats with three decimal places in a formatted string."
   ]
  },
  {
   "cell_type": "code",
   "execution_count": null,
   "metadata": {},
   "outputs": [],
   "source": [
    "# Using .upper() to convert a string to uppercase\n",
    "string = \"Hello, World!\"\n",
    "uppercase_string = string.upper()\n",
    "print(uppercase_string)\n"
   ]
  },
  {
   "cell_type": "code",
   "execution_count": null,
   "metadata": {},
   "outputs": [],
   "source": [
    "# Using .lower() to convert a string to lowercase\n",
    "string = \"Hello, World!\"\n",
    "lowercase_string = string.lower()\n",
    "print(lowercase_string)"
   ]
  },
  {
   "cell_type": "code",
   "execution_count": null,
   "metadata": {},
   "outputs": [],
   "source": [
    "# Using .endswith() to check if a string ends with a specific suffix\n",
    "file_name = \"example.txt\"\n",
    "if file_name.endswith(\".txt\"):\n",
    "    print(\"Text file detected!\")"
   ]
  },
  {
   "cell_type": "code",
   "execution_count": null,
   "metadata": {},
   "outputs": [],
   "source": [
    "# Using .replace() to replace occurrences of a substring in a string\n",
    "message = \"I like cats.\"\n",
    "updated_message = message.replace(\"cats\", \"dogs\")\n",
    "print(updated_message)"
   ]
  },
  {
   "attachments": {},
   "cell_type": "markdown",
   "metadata": {},
   "source": [
    "- `.upper()`: Converts a string to uppercase. In the example, \"Hello, World!\" is converted to \"HELLO, WORLD!\".\n",
    "- `.lower()`: Converts a string to lowercase. In the example, \"Hello, World!\" is converted to \"hello, world!\".\n",
    "- `.endswith()`: Checks if a string ends with a specific suffix. The code checks if file_name ends with the suffix .txt and prints a message if it does.\n",
    "- `.replace()`: Replaces occurrences of a substring within a string. In the example, \"cats\" in the message string is replaced with \"dogs\", resulting in the updated message \"I like dogs.\"."
   ]
  },
  {
   "cell_type": "markdown",
   "metadata": {},
   "source": [
    "### List"
   ]
  },
  {
   "cell_type": "markdown",
   "metadata": {},
   "source": [
    "A list is an ordered, mutable i.e., can be changed after being set, collection of elements. Lists allow duplicate elements and can contain elements of different types. We can also access elements in a list through indexing and can also select various elements through slicing."
   ]
  },
  {
   "cell_type": "code",
   "execution_count": 14,
   "metadata": {},
   "outputs": [
    {
     "name": "stdout",
     "output_type": "stream",
     "text": [
      "banana\n"
     ]
    }
   ],
   "source": [
    "# Accessing 'banana' in a list - note that in Python, the first element has an index of 0\n",
    "fruits = [\"apple\", \"banana\", \"cherry\", \"avacado\"]\n",
    "print(fruits[1])"
   ]
  },
  {
   "cell_type": "code",
   "execution_count": 15,
   "metadata": {},
   "outputs": [
    {
     "name": "stdout",
     "output_type": "stream",
     "text": [
      "['apple', 'banana', 'cherry', 'avacado', 'orange']\n"
     ]
    }
   ],
   "source": [
    "# Adding an element automatically to the end of a list\n",
    "fruits.append(\"orange\")\n",
    "print(fruits)"
   ]
  },
  {
   "cell_type": "code",
   "execution_count": 16,
   "metadata": {},
   "outputs": [
    {
     "name": "stdout",
     "output_type": "stream",
     "text": [
      "['apple', 'banana', 'kiwi', 'cherry', 'avacado', 'orange']\n"
     ]
    }
   ],
   "source": [
    "# Adding an element in the 2nd index\n",
    "fruits.insert(2, \"kiwi\")\n",
    "print(fruits)"
   ]
  },
  {
   "cell_type": "code",
   "execution_count": 17,
   "metadata": {},
   "outputs": [
    {
     "ename": "ValueError",
     "evalue": "list.remove(x): x not in list",
     "output_type": "error",
     "traceback": [
      "\u001b[1;31m---------------------------------------------------------------------------\u001b[0m",
      "\u001b[1;31mValueError\u001b[0m                                Traceback (most recent call last)",
      "Cell \u001b[1;32mIn[17], line 2\u001b[0m\n\u001b[0;32m      1\u001b[0m \u001b[38;5;66;03m# Remove an element automatically (if it exists)\u001b[39;00m\n\u001b[1;32m----> 2\u001b[0m \u001b[43mfruits\u001b[49m\u001b[38;5;241;43m.\u001b[39;49m\u001b[43mremove\u001b[49m\u001b[43m(\u001b[49m\u001b[38;5;124;43m\"\u001b[39;49m\u001b[38;5;124;43mlol\u001b[39;49m\u001b[38;5;124;43m\"\u001b[39;49m\u001b[43m)\u001b[49m\n",
      "\u001b[1;31mValueError\u001b[0m: list.remove(x): x not in list"
     ]
    }
   ],
   "source": [
    "# Remove an element automatically (if it exists)\n",
    "fruits.remove(\"lol\")"
   ]
  },
  {
   "cell_type": "code",
   "execution_count": 18,
   "metadata": {},
   "outputs": [
    {
     "name": "stdout",
     "output_type": "stream",
     "text": [
      "['apple', 'kiwi', 'cherry', 'avacado', 'orange']\n"
     ]
    }
   ],
   "source": [
    "# Remove an element automatically (if it exists)\n",
    "fruits.remove(\"banana\")\n",
    "print(fruits)"
   ]
  },
  {
   "cell_type": "code",
   "execution_count": 19,
   "metadata": {},
   "outputs": [
    {
     "data": {
      "text/plain": [
       "('apple', ['kiwi', 'cherry', 'avacado', 'orange'])"
      ]
     },
     "execution_count": 19,
     "metadata": {},
     "output_type": "execute_result"
    }
   ],
   "source": [
    "# Remove an element from the 0th index and returns this element - this also updates the original list\n",
    "fruits.pop(0), fruits"
   ]
  },
  {
   "cell_type": "code",
   "execution_count": 20,
   "metadata": {},
   "outputs": [
    {
     "data": {
      "text/plain": [
       "['cherry', 'avacado', 'orange']"
      ]
     },
     "execution_count": 20,
     "metadata": {},
     "output_type": "execute_result"
    }
   ],
   "source": [
    "# Select all elements after the 1st element i.e., 2nd and 3rd element\n",
    "fruits[1:]"
   ]
  },
  {
   "cell_type": "code",
   "execution_count": 22,
   "metadata": {},
   "outputs": [
    {
     "data": {
      "text/plain": [
       "['cherry', 'avacado']"
      ]
     },
     "execution_count": 22,
     "metadata": {},
     "output_type": "execute_result"
    }
   ],
   "source": [
    "# Select elements from 2nd and 3rd\n",
    "fruits[1:3]"
   ]
  },
  {
   "cell_type": "markdown",
   "metadata": {},
   "source": [
    "- `append()`: Adds an element to the end of the list.\n",
    "- `insert()`: Adds an element to a specific index of the list.\n",
    "- `remove()`: Removes the first occurrence of a specified element.\n",
    "- `pop()`: Removes and returns the last element."
   ]
  },
  {
   "cell_type": "markdown",
   "metadata": {},
   "source": [
    "### Dictionary"
   ]
  },
  {
   "cell_type": "markdown",
   "metadata": {},
   "source": [
    "A dictionary is an unordered, mutable collection of key-value pairs. Keys must be unique and immutable i.e., cannot be changed after being set, while values can be of any type."
   ]
  },
  {
   "cell_type": "code",
   "execution_count": 15,
   "metadata": {},
   "outputs": [],
   "source": [
    "# Creating a dictionary\n",
    "person = {\"name\": \"John\", \"age\": 30, \"city\": \"New York\"}"
   ]
  },
  {
   "cell_type": "code",
   "execution_count": 16,
   "metadata": {},
   "outputs": [
    {
     "name": "stdout",
     "output_type": "stream",
     "text": [
      "John\n"
     ]
    }
   ],
   "source": [
    "# Accessing values\n",
    "print(person[\"name\"])"
   ]
  },
  {
   "cell_type": "code",
   "execution_count": 17,
   "metadata": {},
   "outputs": [
    {
     "name": "stdout",
     "output_type": "stream",
     "text": [
      "{'name': 'John', 'age': 30, 'city': 'New York', 'email': 'john@example.com'}\n"
     ]
    }
   ],
   "source": [
    "# Adding a key-value pair\n",
    "person[\"email\"] = \"john@example.com\"\n",
    "print(person)"
   ]
  },
  {
   "cell_type": "code",
   "execution_count": 18,
   "metadata": {},
   "outputs": [
    {
     "name": "stdout",
     "output_type": "stream",
     "text": [
      "{'name': 'John', 'city': 'New York', 'email': 'john@example.com'}\n"
     ]
    }
   ],
   "source": [
    "# Removing a key-value pair\n",
    "del person[\"age\"]\n",
    "print(person)"
   ]
  },
  {
   "cell_type": "code",
   "execution_count": 19,
   "metadata": {},
   "outputs": [
    {
     "name": "stdout",
     "output_type": "stream",
     "text": [
      "Keys: dict_keys(['name', 'city', 'email']) | Values: dict_values(['John', 'New York', 'john@example.com'])\n"
     ]
    }
   ],
   "source": [
    "# Dictionary methods\n",
    "keys = person.keys()\n",
    "values = person.values()\n",
    "print(f\"Keys: {keys} | Values: {values}\")"
   ]
  },
  {
   "cell_type": "markdown",
   "metadata": {},
   "source": [
    "It is possible to change data types into lists by wrapping the data type in the `list` method. Note that you do not have to use the `print` method to show the output - this is because by default, when you execute the code, a method will output in the Python console the effect of that method. Similarly, you can just rewrite the variable you want printed at the end of your code to display it (which we will see below in the sets section)."
   ]
  },
  {
   "cell_type": "code",
   "execution_count": 20,
   "metadata": {},
   "outputs": [
    {
     "data": {
      "text/plain": [
       "['name', 'city', 'email']"
      ]
     },
     "execution_count": 20,
     "metadata": {},
     "output_type": "execute_result"
    }
   ],
   "source": [
    "# Obtain a list of keys\n",
    "list(keys)"
   ]
  },
  {
   "cell_type": "markdown",
   "metadata": {},
   "source": [
    "- `keys()`: Returns a view object of all the keys.\n",
    "- `values()`: Returns a view object of all the values.\n",
    "- `items()`: Returns a view object of all key-value pairs.\n",
    "- `get()`: Returns the value for a specified key.\n",
    "- `del`: Removes the key-value pair."
   ]
  },
  {
   "cell_type": "markdown",
   "metadata": {},
   "source": [
    "### Set"
   ]
  },
  {
   "cell_type": "markdown",
   "metadata": {},
   "source": [
    "A set is an unordered, mutable collection of unique elements. Sets do not allow duplicate elements."
   ]
  },
  {
   "cell_type": "code",
   "execution_count": 25,
   "metadata": {},
   "outputs": [],
   "source": [
    "# Creating a set\n",
    "numbers = {1, 2, 3, 4}\n"
   ]
  },
  {
   "cell_type": "code",
   "execution_count": 26,
   "metadata": {},
   "outputs": [
    {
     "data": {
      "text/plain": [
       "{1, 2, 3, 4, 5}"
      ]
     },
     "execution_count": 26,
     "metadata": {},
     "output_type": "execute_result"
    }
   ],
   "source": [
    "# Adding an element\n",
    "numbers.add(5)\n",
    "numbers"
   ]
  },
  {
   "cell_type": "code",
   "execution_count": 27,
   "metadata": {},
   "outputs": [
    {
     "data": {
      "text/plain": [
       "{1, 2, 4, 5}"
      ]
     },
     "execution_count": 27,
     "metadata": {},
     "output_type": "execute_result"
    }
   ],
   "source": [
    "# Removing an element\n",
    "numbers.remove(3)\n",
    "numbers"
   ]
  },
  {
   "cell_type": "code",
   "execution_count": 28,
   "metadata": {},
   "outputs": [
    {
     "data": {
      "text/plain": [
       "{1, 2, 4, 5, 6, 7}"
      ]
     },
     "execution_count": 28,
     "metadata": {},
     "output_type": "execute_result"
    }
   ],
   "source": [
    "# Union\n",
    "union_set = numbers.union({6, 7})\n",
    "union_set"
   ]
  },
  {
   "cell_type": "code",
   "execution_count": 29,
   "metadata": {},
   "outputs": [
    {
     "data": {
      "text/plain": [
       "{4, 5}"
      ]
     },
     "execution_count": 29,
     "metadata": {},
     "output_type": "execute_result"
    }
   ],
   "source": [
    "# Intersection\n",
    "intersection_set = numbers.intersection({4, 5, 6})\n",
    "intersection_set"
   ]
  },
  {
   "cell_type": "code",
   "execution_count": null,
   "metadata": {},
   "outputs": [
    {
     "ename": "TypeError",
     "evalue": "'set' object does not support item assignment",
     "output_type": "error",
     "traceback": [
      "\u001b[1;31m---------------------------------------------------------------------------\u001b[0m",
      "\u001b[1;31mTypeError\u001b[0m                                 Traceback (most recent call last)",
      "Cell \u001b[1;32mIn[30], line 2\u001b[0m\n\u001b[0;32m      1\u001b[0m \u001b[38;5;66;03m# Error when trying to change or index in a set\u001b[39;00m\n\u001b[1;32m----> 2\u001b[0m numbers[\u001b[38;5;241m0\u001b[39m] \u001b[38;5;241m=\u001b[39m \u001b[38;5;241m7\u001b[39m\n",
      "\u001b[1;31mTypeError\u001b[0m: 'set' object does not support item assignment"
     ]
    }
   ],
   "source": [
    "# Error when trying to change an element in a set\n",
    "numbers[0] = 7"
   ]
  },
  {
   "cell_type": "markdown",
   "metadata": {},
   "source": [
    "- `add()`: Adds an element to the set.\n",
    "- `remove()`: Removes a specified element from the set.\n",
    "- `union()`: Returns a new set containing all elements from both sets.\n",
    "- `intersection()`: Returns a new set containing only common elements."
   ]
  },
  {
   "cell_type": "markdown",
   "metadata": {},
   "source": [
    "### Tuple"
   ]
  },
  {
   "cell_type": "markdown",
   "metadata": {},
   "source": [
    "A tuple is an ordered, immutable collection of elements. Tuples allow duplicate elements and can contain elements of different types."
   ]
  },
  {
   "cell_type": "code",
   "execution_count": 31,
   "metadata": {},
   "outputs": [],
   "source": [
    "# Creating a tuple\n",
    "point = (10, 20, 30)\n"
   ]
  },
  {
   "cell_type": "code",
   "execution_count": 32,
   "metadata": {},
   "outputs": [
    {
     "data": {
      "text/plain": [
       "20"
      ]
     },
     "execution_count": 32,
     "metadata": {},
     "output_type": "execute_result"
    }
   ],
   "source": [
    "# Accessing elements\n",
    "point[1]"
   ]
  },
  {
   "cell_type": "code",
   "execution_count": 33,
   "metadata": {},
   "outputs": [
    {
     "data": {
      "text/plain": [
       "1"
      ]
     },
     "execution_count": 33,
     "metadata": {},
     "output_type": "execute_result"
    }
   ],
   "source": [
    "# Count number of occurences\n",
    "count = point.count(20)\n",
    "count"
   ]
  },
  {
   "cell_type": "code",
   "execution_count": 34,
   "metadata": {},
   "outputs": [
    {
     "data": {
      "text/plain": [
       "2"
      ]
     },
     "execution_count": 34,
     "metadata": {},
     "output_type": "execute_result"
    }
   ],
   "source": [
    "# Find the index of an element\n",
    "index = point.index(30)\n",
    "index"
   ]
  },
  {
   "cell_type": "code",
   "execution_count": 35,
   "metadata": {},
   "outputs": [
    {
     "ename": "TypeError",
     "evalue": "'tuple' object does not support item assignment",
     "output_type": "error",
     "traceback": [
      "\u001b[1;31m---------------------------------------------------------------------------\u001b[0m",
      "\u001b[1;31mTypeError\u001b[0m                                 Traceback (most recent call last)",
      "Cell \u001b[1;32mIn[35], line 2\u001b[0m\n\u001b[0;32m      1\u001b[0m \u001b[38;5;66;03m# Add an element\u001b[39;00m\n\u001b[1;32m----> 2\u001b[0m point[\u001b[38;5;241m4\u001b[39m] \u001b[38;5;241m=\u001b[39m \u001b[38;5;241m20\u001b[39m\n\u001b[0;32m      3\u001b[0m point\n",
      "\u001b[1;31mTypeError\u001b[0m: 'tuple' object does not support item assignment"
     ]
    }
   ],
   "source": [
    "# Error when trying to add an element in a set\n",
    "point[4] = 20\n",
    "point"
   ]
  },
  {
   "cell_type": "markdown",
   "metadata": {},
   "source": [
    "- `count()`: Returns the number of occurrences of a specified element.\n",
    "- `index()`: Returns the index of the first occurrence of a specified element."
   ]
  },
  {
   "cell_type": "markdown",
   "metadata": {},
   "source": [
    "Here is a breakdown of the main data types in Python:\n",
    "\n",
    "| Feature         | List                       | Dictionary                              | Set                             | Tuple                     |\n",
    "| --------------- | -------------------------- | --------------------------------------- | ------------------------------ | ------------------------- |\n",
    "| Ordered         | Yes                        | No                                      | No                             | Yes                       |\n",
    "| Mutable         | Yes                        | Yes                                     | Yes                            | No                        |\n",
    "| Duplicates      | Allowed                    | Keys: No, Values: Yes                   | No                             | Allowed                   |\n",
    "| Element Access  | Index                      | Key                                     | Not Applicable                 | Index                     |\n",
    "| Main Methods    | append(), remove(), sort() | keys(), values(), items(), get(), pop() | add(), remove(), union(), intersection() | count(), index()         |\n",
    "| Use Case        | Store ordered collection of items | Store key-value pairs for fast lookup | Store unique items             | Store ordered collection of items that should not change |\n"
   ]
  },
  {
   "cell_type": "markdown",
   "metadata": {},
   "source": [
    "***"
   ]
  },
  {
   "attachments": {},
   "cell_type": "markdown",
   "metadata": {},
   "source": [
    "# User Input/Output"
   ]
  },
  {
   "attachments": {},
   "cell_type": "markdown",
   "metadata": {},
   "source": [
    "Sometimes we may create programs where we want users to put it in information and then process it. We can use the `input()` function to do this:"
   ]
  },
  {
   "cell_type": "code",
   "execution_count": null,
   "metadata": {},
   "outputs": [],
   "source": [
    "# Taking multiple inputs separated by space and splitting them\n",
    "numbers = input(\"Enter multiple numbers separated by space: \")\n",
    "numbers_list = [int(num) for num in numbers.split()]\n",
    "print(\"Numbers:\", numbers_list)"
   ]
  },
  {
   "attachments": {},
   "cell_type": "markdown",
   "metadata": {},
   "source": [
    "Here we have used something known as list comprehension (a technique we will dive deeper into in the following weeks)."
   ]
  },
  {
   "cell_type": "markdown",
   "metadata": {},
   "source": [
    "***"
   ]
  },
  {
   "attachments": {},
   "cell_type": "markdown",
   "metadata": {},
   "source": [
    "# Final Remarks"
   ]
  },
  {
   "attachments": {},
   "cell_type": "markdown",
   "metadata": {},
   "source": [
    "Thank you for reading this notebook. Note that this is not an exhaustive notebook - there are many more things that can be done with variables and data types and I would advise further reading about this topic in the following book: [Python Programming for Beginners](https://bugs.python.org/file47781/Tutorial_EDIT.pdf).\n",
    "<br>\n",
    "If there are any mistakes or things that need more clarity, feel free to respond and I will be happy to reply 😊.\n",
    "\n",
    "© *PolyNath 2023*"
   ]
  }
 ],
 "metadata": {
  "kernelspec": {
   "display_name": "llm-service",
   "language": "python",
   "name": "python3"
  },
  "language_info": {
   "codemirror_mode": {
    "name": "ipython",
    "version": 3
   },
   "file_extension": ".py",
   "mimetype": "text/x-python",
   "name": "python",
   "nbconvert_exporter": "python",
   "pygments_lexer": "ipython3",
   "version": "3.9.0"
  },
  "orig_nbformat": 4
 },
 "nbformat": 4,
 "nbformat_minor": 2
}
