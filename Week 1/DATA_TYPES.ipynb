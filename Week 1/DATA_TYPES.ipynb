{
 "cells": [
  {
   "attachments": {},
   "cell_type": "markdown",
   "metadata": {},
   "source": [
    "# Data Types"
   ]
  },
  {
   "attachments": {},
   "cell_type": "markdown",
   "metadata": {},
   "source": [
    "In this section, we will delve into the fundamental concepts of data types in Python. You will learn explore different data types such as numbers, strings, lists and booleans. Through hands-on examples and exercises, you will gain a solid understanding of how variables are stored and manipulated in Python.\n",
    "\n",
    "| Topic | Link |\n",
    "| --- | --- |\n",
    "| Data Types | [Link](#Data-Types) |\n",
    "| User Input/Output | [Link](#User-Input-Output) |"
   ]
  },
  {
   "cell_type": "markdown",
   "metadata": {},
   "source": [
    "***"
   ]
  },
  {
   "attachments": {},
   "cell_type": "markdown",
   "metadata": {},
   "source": [
    "## Data Types"
   ]
  },
  {
   "attachments": {},
   "cell_type": "markdown",
   "metadata": {},
   "source": [
    "Below is a brief table of common data types:\n",
    "\n",
    "| Data Type | Description |\n",
    "| --- | --- |\n",
    "| `int` | Integer numbers (e.g., 1, -5, 100) |\n",
    "| `float` | Floating-point numbers (e.g., 3.14, -2.5, 0.75) |\n",
    "| `str` | Strings (sequences of characters, enclosed in quotes) |\n",
    "| `bool` | Boolean values (`True` or `False`) |\n",
    "| `list` | Ordered collection of elements |\n",
    "| `tuple` | Immutable ordered collection of elements |\n",
    "| `dict` | Key-value pairs, also known as dictionaries |\n",
    "| `set` | Unordered collection of unique elements |"
   ]
  },
  {
   "attachments": {},
   "cell_type": "markdown",
   "metadata": {},
   "source": [
    "### Int"
   ]
  },
  {
   "cell_type": "code",
   "execution_count": null,
   "metadata": {},
   "outputs": [],
   "source": [
    "# Integer data type\n",
    "integer = 5"
   ]
  },
  {
   "attachments": {},
   "cell_type": "markdown",
   "metadata": {},
   "source": [
    "If declaring a variable as a `float` and we want it as an integer, we can apply the `int()` function around the variable. This function rounds the number to the lowest integer that is closest to the number i.e. it acts as a `floor` function. This is known as `type` casting, where we apply a `type` function on a variable which is different to the `type` of the variable."
   ]
  },
  {
   "cell_type": "code",
   "execution_count": null,
   "metadata": {},
   "outputs": [],
   "source": [
    "# Float data type\n",
    "float_value = 4.0\n",
    "print(\"4.0 as an integer:\", int(float_value))"
   ]
  },
  {
   "cell_type": "code",
   "execution_count": null,
   "metadata": {},
   "outputs": [],
   "source": [
    "# Float data type\n",
    "float_value = 4.3\n",
    "print(\"4.3 as an integer:\", int(float_value))"
   ]
  },
  {
   "cell_type": "code",
   "execution_count": null,
   "metadata": {},
   "outputs": [],
   "source": [
    "# Float data type\n",
    "float_value = 4.5\n",
    "print(\"4.5 as an integer:\", int(float_value))"
   ]
  },
  {
   "cell_type": "code",
   "execution_count": null,
   "metadata": {},
   "outputs": [],
   "source": [
    "# Float data type\n",
    "float_value = 4.6\n",
    "print(\"4.6 as an integer:\", int(float_value))"
   ]
  },
  {
   "attachments": {},
   "cell_type": "markdown",
   "metadata": {},
   "source": [
    "### Boolean"
   ]
  },
  {
   "cell_type": "code",
   "execution_count": null,
   "metadata": {},
   "outputs": [],
   "source": [
    "# Boolean data type\n",
    "is_raining = True\n",
    "is_sunny = False\n",
    "print(\"Is it raining?\", is_raining)\n",
    "print(\"Is it sunny?\", is_sunny)"
   ]
  },
  {
   "cell_type": "code",
   "execution_count": null,
   "metadata": {},
   "outputs": [],
   "source": [
    "# Logical operations\n",
    "temperature = 25\n",
    "is_warm = temperature > 20\n",
    "is_summer = True\n",
    "print(\"Is it warm?\", is_warm)\n",
    "print(\"Is it summer?\", is_summer)\n",
    "print(\"Is it warm in summer?\", is_warm and is_summer)"
   ]
  },
  {
   "attachments": {},
   "cell_type": "markdown",
   "metadata": {},
   "source": [
    "We can also use `0` and `1` to define as `False` and `True` variables when used in `if/else` or `and/or` statements. We give a brief demonstration of this through chain-comparisons:"
   ]
  },
  {
   "cell_type": "code",
   "execution_count": null,
   "metadata": {},
   "outputs": [],
   "source": [
    "# Chaining comparisons with 'and'\n",
    "x = 5\n",
    "# Check if x is greater than 0 and less than 10\n",
    "if x > 0 and x < 10:\n",
    "    print(\"x is between 0 and 10.\")\n"
   ]
  },
  {
   "cell_type": "code",
   "execution_count": null,
   "metadata": {},
   "outputs": [],
   "source": [
    "# Chaining multiple conditions with 'and'\n",
    "y = 15\n",
    "# Check if y is greater than 10 and less than 20 and divisible by 3\n",
    "if y > 10 and y < 20 and y % 3 == 0:\n",
    "    print(\"y is between 10 and 20 and divisible by 3.\")"
   ]
  },
  {
   "cell_type": "code",
   "execution_count": null,
   "metadata": {},
   "outputs": [],
   "source": [
    "# Chaining comparisons with 'or'\n",
    "z = 25\n",
    "# Check if z is less than 10 or greater than 20\n",
    "if z < 10 or z > 20:\n",
    "    print(\"z is either less than 10 or greater than 20.\")"
   ]
  },
  {
   "cell_type": "code",
   "execution_count": null,
   "metadata": {},
   "outputs": [],
   "source": [
    "# Chaining multiple conditions with 'or'\n",
    "w = -5\n",
    "# Check if w is less than -10 or greater than 10 or equal to 0\n",
    "if w < -10 or w > 10 or w == 0:\n",
    "    print(\"w is either less than -10 or greater than 10 or equal to 0.\")\n",
    "else:\n",
    "    print(\"w does not satisfy the conditions.\")"
   ]
  },
  {
   "cell_type": "code",
   "execution_count": null,
   "metadata": {},
   "outputs": [],
   "source": [
    "# Combining 'and' and 'or'\n",
    "x = 7\n",
    "# Check if x is greater than 0 and either divisible by 2 or 3\n",
    "if x > 0 and (x % 2 == 0 or x % 3 == 0):\n",
    "    print(\"x is greater than 0 and divisible by 2 or 3.\")\n",
    "else:\n",
    "    print(\"x does not satisfy the conditions.\")"
   ]
  },
  {
   "attachments": {},
   "cell_type": "markdown",
   "metadata": {},
   "source": [
    "- The condition `x > 0` checks if `x` is greater than `0`, and the expression `(x % 2 == 0 or x % 3 == 0)` checks if `x` is divisible by either `2` or `3`. \n",
    "- The `or` operator evaluates to `True` if at least one of the conditions is satisfied."
   ]
  },
  {
   "attachments": {},
   "cell_type": "markdown",
   "metadata": {},
   "source": [
    "### String"
   ]
  },
  {
   "cell_type": "code",
   "execution_count": null,
   "metadata": {},
   "outputs": [],
   "source": [
    "# String data type\n",
    "sentence = \"Python is a powerful programming language.\""
   ]
  },
  {
   "cell_type": "code",
   "execution_count": null,
   "metadata": {},
   "outputs": [],
   "source": [
    "# Sentence manipulation\n",
    "length = len(sentence)\n",
    "print(\"Length of the sentence:\", length)\n",
    "print(\"Uppercase sentence:\", sentence.upper())\n",
    "print(\"Reversed sentence:\", sentence[::-1])"
   ]
  },
  {
   "cell_type": "code",
   "execution_count": null,
   "metadata": {},
   "outputs": [],
   "source": [
    "# Slicing\n",
    "print(\"First five characters:\", sentence[:5])  \n",
    "print(\"Last five characters:\", sentence[-5:])  \n",
    "print(\"Every second character:\", sentence[::2]) \n",
    "print(\"Second to fifth character:\", sentence[2:5])  "
   ]
  },
  {
   "cell_type": "code",
   "execution_count": null,
   "metadata": {},
   "outputs": [],
   "source": [
    "# Splitting the sentence into words\n",
    "words = sentence.split()\n",
    "print(\"List of words:\", words)"
   ]
  },
  {
   "cell_type": "code",
   "execution_count": null,
   "metadata": {},
   "outputs": [],
   "source": [
    "# Joining the words with a custom separator\n",
    "separator = \"-\"\n",
    "joined_sentence = separator.join(words)\n",
    "print(\"Joined sentence:\", joined_sentence)"
   ]
  },
  {
   "attachments": {},
   "cell_type": "markdown",
   "metadata": {},
   "source": [
    "- Length of the sentence using `len()`. This returns the number of characters in the string.\n",
    "- Slicing with indexing. We demonstrate extracting the first five characters of the sentence using sentence[:5] etc.... The `start:end:step` format is used for slicing.\n",
    "- Splitting the sentence into a list of words using `split()`. This splits the string at each whitespace character (by default) and returns a list of individual words.\n",
    "- Joining the words back together into a sentence using `join()`. We specify a custom separator (in this case, a hyphen -) and apply join() on the words list."
   ]
  },
  {
   "cell_type": "code",
   "execution_count": null,
   "metadata": {},
   "outputs": [],
   "source": [
    "# String formatting using format()\n",
    "name = \"Alice\"\n",
    "age = 25\n",
    "formatted_string = \"My name is {} and I am {} years old.\".format(name, age)\n",
    "print(formatted_string)"
   ]
  },
  {
   "cell_type": "code",
   "execution_count": null,
   "metadata": {},
   "outputs": [],
   "source": [
    "# Using eval() to evaluate an expression in a string\n",
    "expression = \"2 + 3 * 4\"\n",
    "result = eval(expression)\n",
    "print(\"Result of the expression:\", result)"
   ]
  },
  {
   "cell_type": "code",
   "execution_count": null,
   "metadata": {},
   "outputs": [],
   "source": [
    "# Using f-strings for string interpolation\n",
    "product = \"apple\"\n",
    "price = 1.25\n",
    "quantity = 3\n",
    "total = price * quantity\n",
    "print(f\"I bought {quantity} {product}s for ${total:.2f}\")"
   ]
  },
  {
   "cell_type": "code",
   "execution_count": null,
   "metadata": {},
   "outputs": [],
   "source": [
    "# Formatting string using %d for integers\n",
    "num1 = 10\n",
    "num2 = 5\n",
    "formatted_int = \"The sum of %d and %d is %d.\" % (num1, num2, num1 + num2)\n",
    "print(formatted_int)"
   ]
  },
  {
   "cell_type": "code",
   "execution_count": null,
   "metadata": {},
   "outputs": [],
   "source": [
    "# Formatting string using %.3f for floats\n",
    "pi = 3.1415926\n",
    "formatted_float = \"The value of pi is approximately %.3f.\" % pi\n",
    "print(formatted_float)"
   ]
  },
  {
   "attachments": {},
   "cell_type": "markdown",
   "metadata": {},
   "source": [
    "- `format()`: To format strings by substituting values into placeholders `{}`.\n",
    "- `eval()`: To evaluate an expression stored as a string and obtain the result.\n",
    "- `f-strings`: To embed expressions and variables within string literals using curly braces `{}`.\n",
    "- `%d`: To represent integers in a formatted string using the `%` operator.\n",
    "- `%.3f`: To represent floats with three decimal places in a formatted string."
   ]
  },
  {
   "cell_type": "code",
   "execution_count": null,
   "metadata": {},
   "outputs": [],
   "source": [
    "# Using .upper() to convert a string to uppercase\n",
    "string = \"Hello, World!\"\n",
    "uppercase_string = string.upper()\n",
    "print(uppercase_string)\n"
   ]
  },
  {
   "cell_type": "code",
   "execution_count": null,
   "metadata": {},
   "outputs": [],
   "source": [
    "# Using .lower() to convert a string to lowercase\n",
    "string = \"Hello, World!\"\n",
    "lowercase_string = string.lower()\n",
    "print(lowercase_string)"
   ]
  },
  {
   "cell_type": "code",
   "execution_count": null,
   "metadata": {},
   "outputs": [],
   "source": [
    "# Using .endswith() to check if a string ends with a specific suffix\n",
    "file_name = \"example.txt\"\n",
    "if file_name.endswith(\".txt\"):\n",
    "    print(\"Text file detected!\")"
   ]
  },
  {
   "cell_type": "code",
   "execution_count": null,
   "metadata": {},
   "outputs": [],
   "source": [
    "# Using .replace() to replace occurrences of a substring in a string\n",
    "message = \"I like cats.\"\n",
    "updated_message = message.replace(\"cats\", \"dogs\")\n",
    "print(updated_message)"
   ]
  },
  {
   "attachments": {},
   "cell_type": "markdown",
   "metadata": {},
   "source": [
    "- `.upper()`: Converts a string to uppercase. In the example, \"Hello, World!\" is converted to \"HELLO, WORLD!\".\n",
    "- `.lower()`: Converts a string to lowercase. In the example, \"Hello, World!\" is converted to \"hello, world!\".\n",
    "- `.endswith()`: Checks if a string ends with a specific suffix. The code checks if file_name ends with the suffix .txt and prints a message if it does.\n",
    "- `.replace()`: Replaces occurrences of a substring within a string. In the example, \"cats\" in the message string is replaced with \"dogs\", resulting in the updated message \"I like dogs.\"."
   ]
  },
  {
   "cell_type": "markdown",
   "metadata": {},
   "source": [
    "### List"
   ]
  },
  {
   "cell_type": "markdown",
   "metadata": {},
   "source": [
    "### Dictionary"
   ]
  },
  {
   "cell_type": "markdown",
   "metadata": {},
   "source": [
    "### Set"
   ]
  },
  {
   "cell_type": "markdown",
   "metadata": {},
   "source": [
    "### Tuple"
   ]
  },
  {
   "cell_type": "markdown",
   "metadata": {},
   "source": [
    "***"
   ]
  },
  {
   "attachments": {},
   "cell_type": "markdown",
   "metadata": {},
   "source": [
    "# User Input/Output"
   ]
  },
  {
   "attachments": {},
   "cell_type": "markdown",
   "metadata": {},
   "source": [
    "Sometimes we may create programs where we want users to put it in information and then process it. We can use the `input()` function to do this:"
   ]
  },
  {
   "cell_type": "code",
   "execution_count": null,
   "metadata": {},
   "outputs": [],
   "source": [
    "# Taking multiple inputs separated by space and splitting them\n",
    "numbers = input(\"Enter multiple numbers separated by space: \")\n",
    "numbers_list = [int(num) for num in numbers.split()]\n",
    "print(\"Numbers:\", numbers_list)"
   ]
  },
  {
   "attachments": {},
   "cell_type": "markdown",
   "metadata": {},
   "source": [
    "Here we have used something known as list comprehension (a technique we will dive deeper into in the following weeks)."
   ]
  },
  {
   "cell_type": "markdown",
   "metadata": {},
   "source": [
    "***"
   ]
  },
  {
   "attachments": {},
   "cell_type": "markdown",
   "metadata": {},
   "source": [
    "# Final Remarks"
   ]
  },
  {
   "attachments": {},
   "cell_type": "markdown",
   "metadata": {},
   "source": [
    "Thank you for reading this notebook. Note that this is not an exhaustive notebook - there are many more things that can be done with variables and data types and I would advise further reading about this topic in the following book: [Python Programming for Beginners](https://bugs.python.org/file47781/Tutorial_EDIT.pdf).\n",
    "<br>\n",
    "If there are any mistakes or things that need more clarity, feel free to respond and I will be happy to reply 😊.\n",
    "\n",
    "© *PolyNath 2023*"
   ]
  }
 ],
 "metadata": {
  "kernelspec": {
   "display_name": "msc-2023",
   "language": "python",
   "name": "msc-2023"
  },
  "language_info": {
   "codemirror_mode": {
    "name": "ipython",
    "version": 3
   },
   "file_extension": ".py",
   "mimetype": "text/x-python",
   "name": "python",
   "nbconvert_exporter": "python",
   "pygments_lexer": "ipython3",
   "version": "3.9.0"
  },
  "orig_nbformat": 4
 },
 "nbformat": 4,
 "nbformat_minor": 2
}
