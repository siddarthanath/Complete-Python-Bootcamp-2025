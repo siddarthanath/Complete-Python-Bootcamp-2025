{
 "cells": [
  {
   "attachments": {},
   "cell_type": "markdown",
   "metadata": {},
   "source": [
    "# Data Structures"
   ]
  },
  {
   "attachments": {},
   "cell_type": "markdown",
   "metadata": {},
   "source": [
    "In this section, we will delve into the fundamental concept of **data structures** in Python. Through hands-on examples and exercises, you will gain a solid understanding on how to create different *data structures* and their use cases.\n",
    "\n",
    "| Topic | Link |\n",
    "| --- | --- |\n",
    "| Array | [Link](#If-Else) |\n",
    "| Stack | [Link](#For-Loop) |\n",
    "| Queue | [Link](#While-Loop) |\n",
    "| List | [Link](#Break-Pass-Continue) |"
   ]
  },
  {
   "cell_type": "markdown",
   "metadata": {},
   "source": [
    "***"
   ]
  },
  {
   "cell_type": "markdown",
   "metadata": {},
   "source": [
    "## Stack"
   ]
  },
  {
   "cell_type": "markdown",
   "metadata": {},
   "source": [
    "A stack is a linear data structure that follows the **Last In First Out** (LIFO) principle. It allows adding and removing elements from only one end, called the top of the stack."
   ]
  },
  {
   "cell_type": "markdown",
   "metadata": {},
   "source": [
    "```plaintext\n",
    "Initial Stack (Empty):\n",
    "      ┌───────────┐\n",
    "      │           │\n",
    "      │           ▼\n",
    "      │        ┌─────┐\n",
    "      │        │     │\n",
    "      │        └─────┘\n",
    "      │           ▲\n",
    "      │           │\n",
    "      │           │\n",
    "      │           │\n",
    "      │           │\n",
    "      │           │\n",
    "      │           │\n",
    "      │           │\n",
    "      └───────────┘\n",
    "\n",
    "Push 1 onto the Stack:\n",
    "      ┌───────────┐\n",
    "      │           │\n",
    "      │           ▼\n",
    "      │        ┌─────┐\n",
    "      │        │  1  │\n",
    "      │        └─────┘\n",
    "      │           ▲\n",
    "      │           │\n",
    "      │           │\n",
    "      │           │\n",
    "      │           │\n",
    "      │           │\n",
    "      │           │\n",
    "      │           │\n",
    "      └───────────┘\n",
    "\n",
    "Push 2 onto the Stack:\n",
    "      ┌───────────┐\n",
    "      │           │\n",
    "      │           ▼\n",
    "      │        ┌─────┐\n",
    "      │        │  2  │\n",
    "      │        └─────┘\n",
    "      │           ▲\n",
    "      │           │\n",
    "      │           │\n",
    "      │        ┌─────┐\n",
    "      │        │  1  │\n",
    "      │        └─────┘\n",
    "      │           ▲\n",
    "      │           │\n",
    "      │           │\n",
    "      │           │\n",
    "      │           │\n",
    "      │           │\n",
    "      └───────────┘\n",
    "\n",
    "Push 3 onto the Stack:\n",
    "      ┌───────────┐\n",
    "      │           │\n",
    "      │           ▼\n",
    "      │        ┌─────┐\n",
    "      │        │  3  │\n",
    "      │        └─────┘\n",
    "      │           ▲\n",
    "      │           │\n",
    "      │           │\n",
    "      │        ┌─────┐\n",
    "      │        │  2  │\n",
    "      │        └─────┘\n",
    "      │           ▲\n",
    "      │           │\n",
    "      │           │\n",
    "      │        ┌─────┐\n",
    "      │        │  1  │\n",
    "      │        └─────┘\n",
    "      │           ▲\n",
    "      │           │\n",
    "      └───────────┘\n",
    "\n",
    "Stack after push(3):\n",
    "      ┌───────────┐\n",
    "      │           │\n",
    "      │           ▼\n",
    "      │        ┌─────┐\n",
    "      │        │  3  │\n",
    "      │        └─────┘\n",
    "      │           ▲\n",
    "      │           │\n",
    "      │           │\n",
    "      │        ┌─────┐\n",
    "      │        │  2  │\n",
    "      │        └─────┘\n",
    "      │           ▲\n",
    "      │           │\n",
    "      │           │\n",
    "      │        ┌─────┐\n",
    "      │        │  1  │\n",
    "      │        └─────┘\n",
    "      │           ▲\n",
    "      │           │\n",
    "      └───────────┘\n"
   ]
  },
  {
   "cell_type": "markdown",
   "metadata": {
    "vscode": {
     "languageId": "plaintext"
    }
   },
   "source": [
    "This is analogous to stacking *plates* on top of each other."
   ]
  },
  {
   "cell_type": "code",
   "execution_count": 2,
   "metadata": {},
   "outputs": [],
   "source": [
    "# Implementing a stack using a list\n",
    "stack = []"
   ]
  },
  {
   "cell_type": "code",
   "execution_count": 3,
   "metadata": {},
   "outputs": [
    {
     "name": "stdout",
     "output_type": "stream",
     "text": [
      "Stack after FIRST push: [1]\n",
      "Stack after SECOND push: [1, 2]\n",
      "Stack after THIRD push: [1, 2, 3]\n"
     ]
    }
   ],
   "source": [
    "# Adding elements to the stack (Push operation)\n",
    "stack.append(1)\n",
    "print(f\"Stack after FIRST push: {stack}\")\n",
    "stack.append(2)\n",
    "print(f\"Stack after SECOND push: {stack}\")\n",
    "stack.append(3)\n",
    "print(f\"Stack after THIRD push: {stack}\")"
   ]
  },
  {
   "cell_type": "markdown",
   "metadata": {},
   "source": [
    "Alternatively, you can build the stack using a for loop or list comprehension!"
   ]
  },
  {
   "cell_type": "code",
   "execution_count": 7,
   "metadata": {},
   "outputs": [
    {
     "name": "stdout",
     "output_type": "stream",
     "text": [
      "Stack after iteration 1: [1]\n",
      "Stack after iteration 2: [1, 2]\n",
      "Stack after iteration 3: [1, 2, 3]\n"
     ]
    }
   ],
   "source": [
    "# For loop\n",
    "for_stack = []\n",
    "for i in range(3):\n",
    "    for_stack.append(i+1)\n",
    "    print(f\"Stack after iteration {i+1}: {for_stack}\")"
   ]
  },
  {
   "cell_type": "code",
   "execution_count": 8,
   "metadata": {},
   "outputs": [
    {
     "name": "stdout",
     "output_type": "stream",
     "text": [
      "Stack after iteration 3: [1, 2, 3]\n"
     ]
    }
   ],
   "source": [
    "# List comprehension\n",
    "list_comprehension_stack = [i+1 for i in range(3)]\n",
    "print(f\"Stack after iteration 3: {list_comprehension_stack}\")"
   ]
  },
  {
   "cell_type": "code",
   "execution_count": 9,
   "metadata": {},
   "outputs": [
    {
     "name": "stdout",
     "output_type": "stream",
     "text": [
      "Popped element: 3\n",
      "Stack after popping an element: [1, 2]\n"
     ]
    }
   ],
   "source": [
    "# Removing elements from the stack (Pop operation)\n",
    "top_element = stack.pop()\n",
    "print(f\"Popped element: {top_element}\") \n",
    "print(f\"Stack after popping an element: {stack}\")"
   ]
  },
  {
   "cell_type": "markdown",
   "metadata": {},
   "source": [
    "```plaintext\n",
    "Initial Stack:\n",
    "      ┌───────────┐\n",
    "      │           │\n",
    "      │           ▼\n",
    "      │        ┌─────┐\n",
    "      │        │  3  │\n",
    "      │        └─────┘\n",
    "      │           ▲\n",
    "      │           │\n",
    "      │           │\n",
    "      │        ┌─────┐\n",
    "      │        │  2  │\n",
    "      │        └─────┘\n",
    "      │           ▲\n",
    "      │           │\n",
    "      │           │\n",
    "      │        ┌─────┐\n",
    "      │        │  1  │\n",
    "      │        └─────┘\n",
    "      │           ▲\n",
    "      │           │\n",
    "      └───────────┘\n",
    "\n",
    "Pop 3 from the Stack:\n",
    "      ┌───────────┐\n",
    "      │           │\n",
    "      │           ▼\n",
    "      │           │\n",
    "      │           │\n",
    "      │        ┌─────┐\n",
    "      │        │  2  │\n",
    "      │        └─────┘\n",
    "      │           ▲\n",
    "      │           │\n",
    "      │           │\n",
    "      │        ┌─────┐\n",
    "      │        │  1  │\n",
    "      │        └─────┘\n",
    "      │           ▲\n",
    "      │           │\n",
    "      └───────────┘\n",
    "\n",
    "Pop 2 from the Stack:\n",
    "      ┌───────────┐\n",
    "      │           │\n",
    "      │           ▼\n",
    "      │           │\n",
    "      │           │\n",
    "      │           │\n",
    "      │           │\n",
    "      │           │\n",
    "      │        ┌─────┐\n",
    "      │        │  1  │\n",
    "      │        └─────┘\n",
    "      │           ▲\n",
    "      │           │\n",
    "      └───────────┘\n",
    "\n",
    "Pop 1 from the Stack:\n",
    "      ┌───────────┐\n",
    "      │           │\n",
    "      │           ▼\n",
    "      │           │\n",
    "      │           │\n",
    "      │           │\n",
    "      │           │\n",
    "      │           │\n",
    "      │           │\n",
    "      │           │\n",
    "      │           │\n",
    "      │           │\n",
    "      │           │\n",
    "      └───────────┘"
   ]
  },
  {
   "cell_type": "code",
   "execution_count": 10,
   "metadata": {},
   "outputs": [
    {
     "name": "stdout",
     "output_type": "stream",
     "text": [
      "Top element: 2\n"
     ]
    }
   ],
   "source": [
    "# Accessing the top element without removing it (Peek operation)\n",
    "top_element = stack[-1]\n",
    "print(f\"Top element: {top_element}\")"
   ]
  },
  {
   "cell_type": "markdown",
   "metadata": {},
   "source": []
  },
  {
   "cell_type": "markdown",
   "metadata": {},
   "source": [
    "***"
   ]
  },
  {
   "attachments": {},
   "cell_type": "markdown",
   "metadata": {},
   "source": [
    "# Final Remarks"
   ]
  },
  {
   "attachments": {},
   "cell_type": "markdown",
   "metadata": {},
   "source": [
    "Thank you for reading this notebook. Note that this is not an exhaustive notebook - there are many more things that can be done with variables and data types and I would advise further reading about this topics online.\n",
    "If there are any mistakes or things that need more clarity, feel free to respond and I will be happy to reply 😊.\n",
    "\n",
    "© *PolyNath 2023*"
   ]
  }
 ],
 "metadata": {
  "kernelspec": {
   "display_name": "llm-service",
   "language": "python",
   "name": "python3"
  },
  "language_info": {
   "codemirror_mode": {
    "name": "ipython",
    "version": 3
   },
   "file_extension": ".py",
   "mimetype": "text/x-python",
   "name": "python",
   "nbconvert_exporter": "python",
   "pygments_lexer": "ipython3",
   "version": "3.9.0"
  },
  "orig_nbformat": 4
 },
 "nbformat": 4,
 "nbformat_minor": 2
}
