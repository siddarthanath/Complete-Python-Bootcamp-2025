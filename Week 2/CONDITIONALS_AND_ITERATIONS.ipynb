{
 "cells": [
  {
   "attachments": {},
   "cell_type": "markdown",
   "metadata": {},
   "source": [
    "# Conditionals and Iterations"
   ]
  },
  {
   "attachments": {},
   "cell_type": "markdown",
   "metadata": {},
   "source": [
    "In this section, we will delve into the fundamental concepts of variables and data types in Python. You will learn how to declare variables, assign values, and explore different data types such as numbers, strings, and booleans. Through hands-on examples and exercises, you will gain a solid understanding of how variables store and manipulate data in Python. Additionally, we will cover mathematical operators, which are essential for performing arithmetic operations on numeric variables. Below is a table overview:\n",
    "\n",
    "| Topic | Link |\n",
    "| --- | --- |\n",
    "| If and Else | [Link](#If-Else) |\n",
    "| For loop | [Link](#For-Loop) |\n",
    "| While loop | [Link](#While-Loop) |\n",
    "| Break, pass and continue | [Link](#Break-Pass-Continue) |"
   ]
  },
  {
   "attachments": {},
   "cell_type": "markdown",
   "metadata": {},
   "source": [
    "## If and Else"
   ]
  },
  {
   "attachments": {},
   "cell_type": "markdown",
   "metadata": {},
   "source": [
    "In programming, we use `if` and `else` statements when we want to meet certain conditions. These are known as *conditional* statements, alternatively *flow control*.\n",
    "In Python, there are 3 forms of conditional statements:\n",
    "- `If...`\n",
    "- `If...else`\n",
    "- `If...elif...else`"
   ]
  },
  {
   "cell_type": "markdown",
   "metadata": {},
   "source": [
    "### If"
   ]
  },
  {
   "cell_type": "markdown",
   "metadata": {},
   "source": [
    "The if statement evaluates a condition:\n",
    "- If the statement is `True`, the code inside the body of `if` **is** executed.\n",
    "- If the statement is `False`, the code inside the body of `if` is **not** executed."
   ]
  },
  {
   "cell_type": "code",
   "execution_count": 2,
   "metadata": {},
   "outputs": [
    {
     "name": "stdout",
     "output_type": "stream",
     "text": [
      "Number is positive.\n",
      "The if statement is True\n",
      "Code outside the if statement.\n"
     ]
    }
   ],
   "source": [
    "# Check if number is greater than 0\n",
    "number = 10\n",
    "if number > 0:\n",
    "    print('Number is positive.')\n",
    "    print('The if statement is True')\n",
    "print('Code outside the if statement.')"
   ]
  },
  {
   "cell_type": "code",
   "execution_count": 3,
   "metadata": {},
   "outputs": [
    {
     "name": "stdout",
     "output_type": "stream",
     "text": [
      "Code outside the if statement.\n"
     ]
    }
   ],
   "source": [
    "# Check if number is greater than 0\n",
    "number = -5\n",
    "if number > 0:\n",
    "    print('Number is positive.')\n",
    "    print('The if statement is True')\n",
    "print('Code outside the if statement.')"
   ]
  },
  {
   "attachments": {},
   "cell_type": "markdown",
   "metadata": {},
   "source": [
    "- For the first example, $10$ is greater than $0$, hence we go inside the body of the `if` and print the messages. After this is complete, we exit the body of the `if` statement, and finish the remaining part of the code, which is the final print statement.\n",
    "- For the second example, $-5$ is not greater than $0$, hence we do **not** go inside the body of the `if` statement. Instead, this is skipped, and the remaining part of the code is finished, which is the final print statement."
   ]
  },
  {
   "attachments": {},
   "cell_type": "markdown",
   "metadata": {},
   "source": [
    "### If...Else"
   ]
  },
  {
   "attachments": {},
   "cell_type": "markdown",
   "metadata": {},
   "source": [
    "The `if` statement can have an optional `else` clause added on. \n",
    "- If the statement attached to the `if` clause is `True`, the code inside the body of the `if` statement is executed and the `else` clause is not.\n",
    "- If the statement attached to the `if` clause is `False`, the code inside the body of the `if` statement is **not** executed and the body of the `else` clause is executed.\n",
    "\n",
    "Note that both statements cannot be executed at the same time."
   ]
  },
  {
   "cell_type": "code",
   "execution_count": 4,
   "metadata": {},
   "outputs": [
    {
     "name": "stdout",
     "output_type": "stream",
     "text": [
      "Positive number\n",
      "This statement is always executed\n"
     ]
    }
   ],
   "source": [
    "# Check the sign of the number\n",
    "number = 10\n",
    "if number > 0:\n",
    "    print('Positive number')\n",
    "else:\n",
    "    print('Negative number')"
   ]
  },
  {
   "cell_type": "code",
   "execution_count": 5,
   "metadata": {},
   "outputs": [
    {
     "name": "stdout",
     "output_type": "stream",
     "text": [
      "Negative number\n"
     ]
    }
   ],
   "source": [
    "# Check the sign of the number\n",
    "number = -5\n",
    "if number > 0:\n",
    "    print('Positive number')\n",
    "else:\n",
    "    print('Negative number')"
   ]
  },
  {
   "cell_type": "markdown",
   "metadata": {},
   "source": [
    "### If...elif...else"
   ]
  },
  {
   "cell_type": "markdown",
   "metadata": {},
   "source": [
    "The `if...else` statement is used to execute a block of code among two alternatives. However, if we need to make a choice between more than two alternatives, then we use the `if...elif...else` statement.\n",
    "- If the statement attached to the `if` clause is `True`, the code inside the body of the `if` statement is executed and the remaining conditional clauses are not.\n",
    "- If the statement attached to the `if` clause is `False`, the code inside the body of the `if` statement is **not** executed and we then evaluate the `elif` statement (Which comes after). \n",
    "- This keeps going until we find a statement clause which is `True`, to which we then execute that body of code. Otherwise, none of the statements are executed."
   ]
  },
  {
   "cell_type": "code",
   "execution_count": 6,
   "metadata": {},
   "outputs": [
    {
     "name": "stdout",
     "output_type": "stream",
     "text": [
      "Zero\n"
     ]
    }
   ],
   "source": [
    "# Check the value of a number\n",
    "number = 0\n",
    "if number > 0:\n",
    "    print(\"Positive number\")\n",
    "elif number == 0:\n",
    "    print('Zero')\n",
    "else:\n",
    "    print('Negative number')"
   ]
  },
  {
   "cell_type": "markdown",
   "metadata": {},
   "source": [
    "## For Loop"
   ]
  },
  {
   "cell_type": "code",
   "execution_count": null,
   "metadata": {},
   "outputs": [],
   "source": []
  },
  {
   "attachments": {},
   "cell_type": "markdown",
   "metadata": {},
   "source": [
    "# Final Remarks"
   ]
  },
  {
   "attachments": {},
   "cell_type": "markdown",
   "metadata": {},
   "source": [
    "Thank you for reading this notebook. Note that this is not an exhaustive notebook - there are many more things that can be done with variables and data types and I would advise further reading about this topics online.\n",
    "If there are any mistakes or things that need more clarity, feel free to respond and I will be happy to reply 😊.\n",
    "\n",
    "© *PolyNath 2023*"
   ]
  }
 ],
 "metadata": {
  "kernelspec": {
   "display_name": "msc-2023",
   "language": "python",
   "name": "msc-2023"
  },
  "language_info": {
   "codemirror_mode": {
    "name": "ipython",
    "version": 3
   },
   "file_extension": ".py",
   "mimetype": "text/x-python",
   "name": "python",
   "nbconvert_exporter": "python",
   "pygments_lexer": "ipython3",
   "version": "3.9.0"
  },
  "orig_nbformat": 4
 },
 "nbformat": 4,
 "nbformat_minor": 2
}
